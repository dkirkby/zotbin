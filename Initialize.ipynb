{
 "cells": [
  {
   "cell_type": "markdown",
   "metadata": {},
   "source": [
    "# Initialize Fast Metric Calculations"
   ]
  },
  {
   "cell_type": "code",
   "execution_count": 1,
   "metadata": {},
   "outputs": [],
   "source": [
    "from zotbin.binned import *"
   ]
  },
  {
   "cell_type": "code",
   "execution_count": 2,
   "metadata": {},
   "outputs": [
    {
     "name": "stdout",
     "output_type": "stream",
     "text": [
      "Found classifier Random\n",
      "Found classifier ZotBin\n",
      "Found classifier RandomForest\n",
      "Found classifier IBandOnly\n"
     ]
    }
   ],
   "source": [
    "from tomo_challenge import load_redshift\n",
    "from tomo_challenge.jax_metrics import ell_binning"
   ]
  },
  {
   "cell_type": "markdown",
   "metadata": {},
   "source": [
    "Load the true redshifts for the training data:"
   ]
  },
  {
   "cell_type": "code",
   "execution_count": 3,
   "metadata": {},
   "outputs": [],
   "source": [
    "training_file='/media/data2/tomo_challenge_data/ugrizy_buzzard/training.hdf5'\n",
    "training_z = load_redshift(training_file)"
   ]
  },
  {
   "cell_type": "markdown",
   "metadata": {},
   "source": [
    "Calculate the edges to use:"
   ]
  },
  {
   "cell_type": "code",
   "execution_count": 4,
   "metadata": {},
   "outputs": [
    {
     "name": "stderr",
     "output_type": "stream",
     "text": [
      "/opt/anaconda3/envs/ML/lib/python3.7/site-packages/jax/lax/lax.py:5905: UserWarning: Explicitly requested dtype <class 'jax.numpy.lax_numpy.int64'> requested in astype is not available, and will be truncated to dtype int32. To enable more dtypes, set the jax_enable_x64 configuration option or the JAX_ENABLE_X64 shell environment variable. See https://github.com/google/jax#current-gotchas for more.\n",
      "  warnings.warn(msg.format(dtype, fun_name , truncated_dtype))\n"
     ]
    },
    {
     "data": {
      "image/png": "[encoded data removed]",
      "text/plain": [
       "<Figure size 864x288 with 3 Axes>"
      ]
     },
     "metadata": {
      "needs_background": "light"
     },
     "output_type": "display_data"
    }
   ],
   "source": [
    "zedges = get_zedges_chi(training_z, 80, plot=True)"
   ]
  },
  {
   "cell_type": "markdown",
   "metadata": {},
   "source": [
    "Initialise the multipoles to use:"
   ]
  },
  {
   "cell_type": "code",
   "execution_count": 5,
   "metadata": {},
   "outputs": [],
   "source": [
    "ell, _ = ell_binning()"
   ]
  },
  {
   "cell_type": "markdown",
   "metadata": {},
   "source": [
    "Calculate the cl's and their partials using these redshift bins:"
   ]
  },
  {
   "cell_type": "code",
   "execution_count": 11,
   "metadata": {},
   "outputs": [
    {
     "name": "stdout",
     "output_type": "stream",
     "text": [
      "0 (12880, 100)\n",
      "1 (12880, 100)\n",
      "2 (12880, 100)\n",
      "3 (12880, 100)\n",
      "4 (12880, 100)\n",
      "5 (12880, 100)\n",
      "6 (12880, 100)\n",
      "(12880, 100)\n",
      "CPU times: user 24min 54s, sys: 2min 2s, total: 26min 56s\n",
      "Wall time: 22min 53s\n"
     ]
    }
   ],
   "source": [
    "%time ngals, noise, cl_in = init_binned_cl(zedges, ell, nagrid=4096)"
   ]
  },
  {
   "cell_type": "code",
   "execution_count": 12,
   "metadata": {},
   "outputs": [],
   "source": [
    "save_binned('binned_80_4k.npz', zedges, ell, ngals, noise, cl_in)"
   ]
  },
  {
   "cell_type": "code",
   "execution_count": 9,
   "metadata": {},
   "outputs": [
    {
     "name": "stdout",
     "output_type": "stream",
     "text": [
      "0 (12880, 100)\n",
      "1 (12880, 100)\n",
      "2 (12880, 100)\n",
      "3 (12880, 100)\n",
      "4 (12880, 100)\n",
      "5 (12880, 100)\n",
      "6 (12880, 100)\n",
      "(12880, 100)\n",
      "CPU times: user 24min 32s, sys: 2min 12s, total: 26min 44s\n",
      "Wall time: 22min 24s\n"
     ]
    }
   ],
   "source": [
    "%time ngals, noise, cl_in = init_binned_cl(zedges, ell, nagrid=2048)"
   ]
  },
  {
   "cell_type": "code",
   "execution_count": 10,
   "metadata": {},
   "outputs": [],
   "source": [
    "save_binned('binned_80_2k.npz', zedges, ell, ngals, noise, cl_in)"
   ]
  },
  {
   "cell_type": "code",
   "execution_count": 6,
   "metadata": {},
   "outputs": [
    {
     "name": "stdout",
     "output_type": "stream",
     "text": [
      "0 (12880, 100)\n",
      "1 (12880, 100)\n",
      "2 (12880, 100)\n",
      "3 (12880, 100)\n",
      "4 (12880, 100)\n",
      "5 (12880, 100)\n",
      "6 (12880, 100)\n",
      "(12880, 100)\n",
      "CPU times: user 24min 29s, sys: 2min 24s, total: 26min 54s\n",
      "Wall time: 22min 33s\n"
     ]
    }
   ],
   "source": [
    "%time ngals, noise, cl_in = init_binned_cl(zedges, ell, nagrid=1024)"
   ]
  },
  {
   "cell_type": "code",
   "execution_count": 7,
   "metadata": {},
   "outputs": [],
   "source": [
    "save_binned('binned_80.npz', zedges, ell, ngals, noise, cl_in)"
   ]
  },
  {
   "cell_type": "code",
   "execution_count": 6,
   "metadata": {},
   "outputs": [
    {
     "name": "stdout",
     "output_type": "stream",
     "text": [
      "0 (3240, 100)\n",
      "1 (3240, 100)\n",
      "2 (3240, 100)\n",
      "3 (3240, 100)\n",
      "4 (3240, 100)\n",
      "5 (3240, 100)\n",
      "6 (3240, 100)\n",
      "(3240, 100)\n",
      "CPU times: user 7min 6s, sys: 44.2 s, total: 7min 50s\n",
      "Wall time: 6min 56s\n"
     ]
    }
   ],
   "source": [
    "%time ngals, noise, cl_in = init_binned_cl(zedges, ell, nagrid=1024)"
   ]
  },
  {
   "cell_type": "code",
   "execution_count": 7,
   "metadata": {},
   "outputs": [],
   "source": [
    "save_binned('binned_40.npz', zedges, ell, ngals, noise, cl_in)"
   ]
  },
  {
   "cell_type": "code",
   "execution_count": 8,
   "metadata": {},
   "outputs": [
    {
     "name": "stdout",
     "output_type": "stream",
     "text": [
      "-rw-rw-r-- 1 dkirkby dkirkby 2.1M Aug 27 16:50 binned_19.npz\n",
      "-rw-rw-r-- 1 dkirkby dkirkby 471K Aug 26 15:56 binned_20.npz\n",
      "-rw-rw-r-- 1 dkirkby dkirkby 7.2M Aug 28 11:09 binned_28.npz\n",
      "-rw-rw-r-- 1 dkirkby dkirkby 988K Aug 27 10:10 binned_29.npz\n",
      "-rw-rw-r-- 1 dkirkby dkirkby  15M Aug 31 17:03 binned_40.npz\n",
      "-rw-rw-r-- 1 dkirkby dkirkby  59M Sep  9 17:44 binned_80.npz\n"
     ]
    }
   ],
   "source": [
    "!ls -lh binned_*.npz"
   ]
  },
  {
   "cell_type": "code",
   "execution_count": 6,
   "metadata": {},
   "outputs": [
    {
     "name": "stderr",
     "output_type": "stream",
     "text": [
      "/opt/anaconda3/envs/ML/lib/python3.7/site-packages/jax/lax/lax.py:5905: UserWarning: Explicitly requested dtype <class 'jax.numpy.lax_numpy.int64'> requested in astype is not available, and will be truncated to dtype int32. To enable more dtypes, set the jax_enable_x64 configuration option or the JAX_ENABLE_X64 shell environment variable. See https://github.com/google/jax#current-gotchas for more.\n",
      "  warnings.warn(msg.format(dtype, fun_name , truncated_dtype))\n"
     ]
    },
    {
     "name": "stdout",
     "output_type": "stream",
     "text": [
      "0 (1596, 100)\n",
      "1 (1596, 100)\n",
      "2 (1596, 100)\n",
      "3 (1596, 100)\n",
      "4 (1596, 100)\n",
      "5 (1596, 100)\n",
      "6 (1596, 100)\n",
      "(1596, 100)\n",
      "CPU times: user 4min 24s, sys: 26 s, total: 4min 50s\n",
      "Wall time: 4min 30s\n"
     ]
    }
   ],
   "source": [
    "%time ngals, noise, cl_in = init_binned_cl(zedges, ell)"
   ]
  },
  {
   "cell_type": "markdown",
   "metadata": {},
   "source": [
    "Save the results for using later:"
   ]
  },
  {
   "cell_type": "code",
   "execution_count": 7,
   "metadata": {},
   "outputs": [],
   "source": [
    "save_binned('binned_28.npz', zedges, ell, ngals, noise, cl_in)"
   ]
  },
  {
   "cell_type": "code",
   "execution_count": 9,
   "metadata": {},
   "outputs": [
    {
     "name": "stdout",
     "output_type": "stream",
     "text": [
      "-rw-rw-r-- 1 dkirkby dkirkby 7.2M Aug 28 11:09 binned_28.npz\n"
     ]
    }
   ],
   "source": [
    "!ls -lh binned_28.npz"
   ]
  }
 ],
 "metadata": {
  "kernelspec": {
   "display_name": "Python 3",
   "language": "python",
   "name": "python3"
  },
  "language_info": {
   "codemirror_mode": {
    "name": "ipython",
    "version": 3
   },
   "file_extension": ".py",
   "mimetype": "text/x-python",
   "name": "python",
   "nbconvert_exporter": "python",
   "pygments_lexer": "ipython3",
   "version": "3.7.3"
  }
 },
 "nbformat": 4,
 "nbformat_minor": 2
}
