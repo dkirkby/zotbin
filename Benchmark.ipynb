{
 "cells": [
  {
   "cell_type": "markdown",
   "metadata": {},
   "source": [
    "# Benchmarks"
   ]
  },
  {
   "cell_type": "code",
   "execution_count": 1,
   "metadata": {},
   "outputs": [
    {
     "name": "stdout",
     "output_type": "stream",
     "text": [
      "Populating the interactive namespace from numpy and matplotlib\n"
     ]
    }
   ],
   "source": [
    "%pylab inline"
   ]
  },
  {
   "cell_type": "code",
   "execution_count": 2,
   "metadata": {},
   "outputs": [],
   "source": [
    "import jax\n",
    "import jax.numpy as jnp"
   ]
  },
  {
   "cell_type": "code",
   "execution_count": 3,
   "metadata": {},
   "outputs": [],
   "source": [
    "from zotbin.binned import load_binned"
   ]
  },
  {
   "cell_type": "code",
   "execution_count": 4,
   "metadata": {},
   "outputs": [],
   "source": [
    "zedges, ell, ngals, noise, cl_in = load_binned('binned_40.npz')"
   ]
  },
  {
   "cell_type": "code",
   "execution_count": 33,
   "metadata": {},
   "outputs": [],
   "source": [
    "nbin = 8\n",
    "nzbin = len(zedges) - 1\n",
    "w = jnp.ones((nbin, nzbin), jnp.float32) / nbin\n",
    "weights = jnp.array([w, w])"
   ]
  },
  {
   "cell_type": "markdown",
   "metadata": {},
   "source": [
    "## Cl Reweighting"
   ]
  },
  {
   "cell_type": "code",
   "execution_count": 34,
   "metadata": {},
   "outputs": [],
   "source": [
    "@jax.jit\n",
    "def reweight_cl(weights, ngals, cl_in):\n",
    "    \"\"\"\n",
    "    \"\"\"\n",
    "    # assert len(weights) == len(ngals)\n",
    "    nprobe = weights.shape[0]\n",
    "    offset = 0\n",
    "    w = [None] * nprobe\n",
    "    nzbin = np.array([len(W) for W in weights])\n",
    "    nout = np.sum(nzbin * (1 + np.arange(nprobe)))\n",
    "    cl_out = [None] * nout\n",
    "    for i1 in range(nprobe):\n",
    "        nrow = len(weights[i1])\n",
    "        rowstep = nprobe - i1\n",
    "        for i2 in range(i1, nprobe):\n",
    "            #assert weights[i2].shape[1] == len(ngals[i2])\n",
    "            W = weights[i2] * ngals[i2]\n",
    "            W /= jnp.sum(W, axis=1, keepdims=True)\n",
    "            w[i2] = W\n",
    "            cl = jnp.einsum('ip,spqk,jq->sijk', w[i1], cl_in[i2][i1], w[i2])\n",
    "            for j in range(nrow):\n",
    "                start = j if i1 == i2 else 0\n",
    "                cl_out[offset + j * rowstep + i2 - i1] = cl[:, j, start:]\n",
    "        offset += nrow * rowstep\n",
    "    return jnp.concatenate(cl_out, axis=1)"
   ]
  },
  {
   "cell_type": "code",
   "execution_count": 35,
   "metadata": {},
   "outputs": [],
   "source": [
    "cl = reweight_cl(weights, ngals, cl_in)"
   ]
  },
  {
   "cell_type": "code",
   "execution_count": 36,
   "metadata": {},
   "outputs": [
    {
     "data": {
      "text/plain": [
       "(8, 136, 100)"
      ]
     },
     "execution_count": 36,
     "metadata": {},
     "output_type": "execute_result"
    }
   ],
   "source": [
    "cl.shape"
   ]
  },
  {
   "cell_type": "code",
   "execution_count": 8,
   "metadata": {},
   "outputs": [
    {
     "name": "stdout",
     "output_type": "stream",
     "text": [
      "394 µs ± 1.9 µs per loop (mean ± std. dev. of 7 runs, 1000 loops each)\n"
     ]
    }
   ],
   "source": [
    "%timeit reweight_cl(weights, ngals, cl_in).block_until_ready()"
   ]
  },
  {
   "cell_type": "markdown",
   "metadata": {},
   "source": [
    "## Noise Reweighting"
   ]
  },
  {
   "cell_type": "code",
   "execution_count": 10,
   "metadata": {},
   "outputs": [],
   "source": [
    "import functools"
   ]
  },
  {
   "cell_type": "code",
   "execution_count": 25,
   "metadata": {},
   "outputs": [],
   "source": [
    "@functools.partial(jax.jit, static_argnums=(1, 4))\n",
    "def reweight_noise_cl(weights, gals_per_arcmin2, ngals, noise, nell):\n",
    "    \"\"\"\n",
    "    \"\"\"\n",
    "    #assert len(weights) == len(noise)\n",
    "    nprobe = weights.shape[0]\n",
    "    noise_out = []\n",
    "    ntracers = 0\n",
    "    for i in range(nprobe):\n",
    "        noise_inv_in = 1 / (ngals[i] * noise[i])\n",
    "        noise_inv_out = gals_per_arcmin2 * weights[i].dot(noise_inv_in)\n",
    "        noise_out.append(1 / noise_inv_out)\n",
    "        ntracers += len(noise_inv_out)\n",
    "    noise = jnp.concatenate(noise_out)\n",
    "\n",
    "    # Define an ordering for the blocks of the signal vector\n",
    "    cl_index = []\n",
    "    for i in range(ntracers):\n",
    "        for j in range(i, ntracers):\n",
    "            cl_index.append((i, j))\n",
    "\n",
    "    # Only include a noise contribution for the auto-spectra\n",
    "    def get_noise_cl(inds):\n",
    "        i, j = inds\n",
    "        delta = 1.0 - jnp.clip(jnp.abs(i - j), 0.0, 1.0)\n",
    "        return noise[i] * delta * jnp.ones(nell)\n",
    "\n",
    "    return jax.lax.map(get_noise_cl, jnp.array(cl_index)) #, cl_index"
   ]
  },
  {
   "cell_type": "code",
   "execution_count": 26,
   "metadata": {},
   "outputs": [],
   "source": [
    "nl = reweight_noise_cl(weights, 20., ngals, noise, len(ell))"
   ]
  },
  {
   "cell_type": "code",
   "execution_count": 37,
   "metadata": {},
   "outputs": [
    {
     "data": {
      "text/plain": [
       "(136, 100)"
      ]
     },
     "execution_count": 37,
     "metadata": {},
     "output_type": "execute_result"
    }
   ],
   "source": [
    "nl.shape"
   ]
  },
  {
   "cell_type": "code",
   "execution_count": 16,
   "metadata": {},
   "outputs": [
    {
     "name": "stdout",
     "output_type": "stream",
     "text": [
      "2.32 ms ± 9.33 µs per loop (mean ± std. dev. of 7 runs, 100 loops each)\n"
     ]
    }
   ],
   "source": [
    "%timeit reweight_noise_cl(weights, 20., ngals, noise, len(ell)).block_until_ready()"
   ]
  },
  {
   "cell_type": "markdown",
   "metadata": {},
   "source": [
    "## Covariance Assembly"
   ]
  },
  {
   "cell_type": "code",
   "execution_count": 27,
   "metadata": {},
   "outputs": [],
   "source": [
    "def get_cl_index(ntracers):\n",
    "    cl_index = []\n",
    "    for i in range(ntracers):\n",
    "        for j in range(i, ntracers):\n",
    "            cl_index.append((i, j))\n",
    "    return cl_index\n",
    "\n",
    "cl_index = get_cl_index(2 * nbin)"
   ]
  },
  {
   "cell_type": "code",
   "execution_count": 45,
   "metadata": {},
   "outputs": [],
   "source": [
    "def get_cov_blocks(cl_index):\n",
    "    def find_index(a, b):\n",
    "        if (a, b) in cl_index:\n",
    "            return cl_index.index((a, b))\n",
    "        else:\n",
    "            return cl_index.index((b, a))\n",
    "    cov_blocks = []\n",
    "    for (i, j) in cl_index:\n",
    "        for (m, n) in cl_index:\n",
    "            cov_blocks.append(\n",
    "                (find_index(i, m), find_index(j, n), find_index(i, n), find_index(j, m))\n",
    "            )\n",
    "    return cov_blocks"
   ]
  },
  {
   "cell_type": "code",
   "execution_count": 72,
   "metadata": {},
   "outputs": [],
   "source": [
    "@functools.partial(jax.jit, static_argnums=(4,))\n",
    "def reweighted_cov(cl_out, nl_out, cov_blocks, ell, fsky):\n",
    "    \"\"\"\n",
    "    \"\"\"\n",
    "    # This is essentially jc.angular_cl.gaussian_cl_covariance without using probes...\n",
    "    cl_obs = cl_out + nl_out\n",
    "    ncl = cl_obs.shape[0]\n",
    "    norm = (2 * ell + 1) * jnp.gradient(ell) * fsky\n",
    "\n",
    "    def get_cov_block(inds):\n",
    "        a, b, c, d = inds\n",
    "        return cl_obs[a] * cl_obs[b] + cl_obs[c] * cl_obs[d]\n",
    "\n",
    "    # Build a sparse representation of the output covariance.\n",
    "    return jax.lax.map(get_cov_block, cov_blocks).reshape((ncl, ncl, len(ell))) / norm"
   ]
  },
  {
   "cell_type": "code",
   "execution_count": 65,
   "metadata": {},
   "outputs": [],
   "source": [
    "cov_blocks = jnp.array(get_cov_blocks(cl_index))"
   ]
  },
  {
   "cell_type": "code",
   "execution_count": 76,
   "metadata": {},
   "outputs": [
    {
     "data": {
      "text/plain": [
       "DeviceArray([[  0,   0,   0,   0],\n",
       "             [  0,   1,   1,   0],\n",
       "             [  0,   2,   2,   0],\n",
       "             ...,\n",
       "             [134, 134, 134, 134],\n",
       "             [134, 135, 135, 134],\n",
       "             [135, 135, 135, 135]], dtype=int32)"
      ]
     },
     "execution_count": 76,
     "metadata": {},
     "output_type": "execute_result"
    }
   ],
   "source": [
    "cov_blocks"
   ]
  },
  {
   "cell_type": "code",
   "execution_count": 156,
   "metadata": {},
   "outputs": [],
   "source": [
    "@functools.partial(jax.jit, static_argnums=(2, 3, 4))\n",
    "def sparse_gaussian_cl_covariance(cl_signal, cl_noise, ell, p, q):\n",
    "    \"\"\"\n",
    "    \"\"\"\n",
    "    # Normalization of covariance\n",
    "    norm = (2 * ell + 1) * np.gradient(ell)\n",
    "\n",
    "    # Adding noise to auto-spectra\n",
    "    cl_obs = (cl_signal + cl_noise) / jnp.sqrt(norm)\n",
    "    n_cls = cl_obs.shape[0]\n",
    "\n",
    "    outer = cl_obs.reshape(-1, 1, len(ell)) * cl_obs\n",
    "    return outer[p, q] + outer[q, p]"
   ]
  },
  {
   "cell_type": "code",
   "execution_count": 157,
   "metadata": {},
   "outputs": [],
   "source": [
    "cov3 = sparse_gaussian_cl_covariance(cl[-1], nl, ell, p, q) / 0.25"
   ]
  },
  {
   "cell_type": "code",
   "execution_count": 158,
   "metadata": {},
   "outputs": [
    {
     "data": {
      "text/plain": [
       "DeviceArray(True, dtype=bool)"
      ]
     },
     "execution_count": 158,
     "metadata": {},
     "output_type": "execute_result"
    }
   ],
   "source": [
    "jnp.allclose(cov, cov3)"
   ]
  },
  {
   "cell_type": "code",
   "execution_count": 149,
   "metadata": {},
   "outputs": [
    {
     "name": "stdout",
     "output_type": "stream",
     "text": [
      "5.22 ms ± 129 µs per loop (mean ± std. dev. of 7 runs, 100 loops each)\n"
     ]
    }
   ],
   "source": [
    "%timeit sparse_gaussian_cl_covariance(cl[-1], nl, ell, p, q).block_until_ready()"
   ]
  },
  {
   "cell_type": "code",
   "execution_count": 127,
   "metadata": {},
   "outputs": [
    {
     "data": {
      "text/plain": [
       "(136, 136, 100)"
      ]
     },
     "execution_count": 127,
     "metadata": {},
     "output_type": "execute_result"
    }
   ],
   "source": [
    "cov3.shape"
   ]
  },
  {
   "cell_type": "code",
   "execution_count": 133,
   "metadata": {},
   "outputs": [],
   "source": [
    "def prep(ntracer):\n",
    "    \n",
    "    j = jnp.arange(ntracer)\n",
    "    i = j.reshape(-1, 1)\n",
    "    k_of_ij = (2 * ntracer - i - 1) * i // 2 + j\n",
    "    print(k_of_ij)\n",
    "\n",
    "    i_of_k, j_of_k = [], []\n",
    "    k = 0\n",
    "    for i in range(ntracer):\n",
    "        for j in range(i, ntracer):\n",
    "            i_of_k.append(i)\n",
    "            j_of_k.append(j)\n",
    "            assert k_of_ij[i, j] == k\n",
    "            k += 1\n",
    "    print(i_of_k)\n",
    "    print(j_of_k)\n",
    "    i_of_k = jnp.array(i_of_k)\n",
    "    j_of_k = jnp.array(j_of_k)\n",
    "    \n",
    "    ncls = len(i_of_k)\n",
    "    print(ncls)\n",
    "    k1 = jnp.arange(ncls)\n",
    "    k2 = k1.reshape(-1, 1)\n",
    "    p = k_of_ij[i_of_k[k1], i_of_k[k2]]\n",
    "    q = k_of_ij[j_of_k[k1], j_of_k[k2]]\n",
    "    return p, q"
   ]
  },
  {
   "cell_type": "code",
   "execution_count": 134,
   "metadata": {},
   "outputs": [
    {
     "name": "stdout",
     "output_type": "stream",
     "text": [
      "[[  0   1   2   3   4   5   6   7   8   9  10  11  12  13  14  15]\n",
      " [ 15  16  17  18  19  20  21  22  23  24  25  26  27  28  29  30]\n",
      " [ 29  30  31  32  33  34  35  36  37  38  39  40  41  42  43  44]\n",
      " [ 42  43  44  45  46  47  48  49  50  51  52  53  54  55  56  57]\n",
      " [ 54  55  56  57  58  59  60  61  62  63  64  65  66  67  68  69]\n",
      " [ 65  66  67  68  69  70  71  72  73  74  75  76  77  78  79  80]\n",
      " [ 75  76  77  78  79  80  81  82  83  84  85  86  87  88  89  90]\n",
      " [ 84  85  86  87  88  89  90  91  92  93  94  95  96  97  98  99]\n",
      " [ 92  93  94  95  96  97  98  99 100 101 102 103 104 105 106 107]\n",
      " [ 99 100 101 102 103 104 105 106 107 108 109 110 111 112 113 114]\n",
      " [105 106 107 108 109 110 111 112 113 114 115 116 117 118 119 120]\n",
      " [110 111 112 113 114 115 116 117 118 119 120 121 122 123 124 125]\n",
      " [114 115 116 117 118 119 120 121 122 123 124 125 126 127 128 129]\n",
      " [117 118 119 120 121 122 123 124 125 126 127 128 129 130 131 132]\n",
      " [119 120 121 122 123 124 125 126 127 128 129 130 131 132 133 134]\n",
      " [120 121 122 123 124 125 126 127 128 129 130 131 132 133 134 135]]\n",
      "[0, 0, 0, 0, 0, 0, 0, 0, 0, 0, 0, 0, 0, 0, 0, 0, 1, 1, 1, 1, 1, 1, 1, 1, 1, 1, 1, 1, 1, 1, 1, 2, 2, 2, 2, 2, 2, 2, 2, 2, 2, 2, 2, 2, 2, 3, 3, 3, 3, 3, 3, 3, 3, 3, 3, 3, 3, 3, 4, 4, 4, 4, 4, 4, 4, 4, 4, 4, 4, 4, 5, 5, 5, 5, 5, 5, 5, 5, 5, 5, 5, 6, 6, 6, 6, 6, 6, 6, 6, 6, 6, 7, 7, 7, 7, 7, 7, 7, 7, 7, 8, 8, 8, 8, 8, 8, 8, 8, 9, 9, 9, 9, 9, 9, 9, 10, 10, 10, 10, 10, 10, 11, 11, 11, 11, 11, 12, 12, 12, 12, 13, 13, 13, 14, 14, 15]\n",
      "[0, 1, 2, 3, 4, 5, 6, 7, 8, 9, 10, 11, 12, 13, 14, 15, 1, 2, 3, 4, 5, 6, 7, 8, 9, 10, 11, 12, 13, 14, 15, 2, 3, 4, 5, 6, 7, 8, 9, 10, 11, 12, 13, 14, 15, 3, 4, 5, 6, 7, 8, 9, 10, 11, 12, 13, 14, 15, 4, 5, 6, 7, 8, 9, 10, 11, 12, 13, 14, 15, 5, 6, 7, 8, 9, 10, 11, 12, 13, 14, 15, 6, 7, 8, 9, 10, 11, 12, 13, 14, 15, 7, 8, 9, 10, 11, 12, 13, 14, 15, 8, 9, 10, 11, 12, 13, 14, 15, 9, 10, 11, 12, 13, 14, 15, 10, 11, 12, 13, 14, 15, 11, 12, 13, 14, 15, 12, 13, 14, 15, 13, 14, 15, 14, 15, 15]\n",
      "136\n"
     ]
    }
   ],
   "source": [
    "p, q = prep(16)"
   ]
  },
  {
   "cell_type": "code",
   "execution_count": 61,
   "metadata": {},
   "outputs": [
    {
     "data": {
      "text/plain": [
       "[(0, 0, 0, 0),\n",
       " (0, 1, 1, 0),\n",
       " (0, 2, 2, 0),\n",
       " (1, 1, 1, 1),\n",
       " (1, 2, 2, 1),\n",
       " (2, 2, 2, 2),\n",
       " (0, 1, 0, 1),\n",
       " (0, 3, 1, 1),\n",
       " (0, 4, 2, 1),\n",
       " (1, 3, 1, 3),\n",
       " (1, 4, 2, 3),\n",
       " (2, 4, 2, 4),\n",
       " (0, 2, 0, 2),\n",
       " (0, 4, 1, 2),\n",
       " (0, 5, 2, 2),\n",
       " (1, 4, 1, 4),\n",
       " (1, 5, 2, 4),\n",
       " (2, 5, 2, 5),\n",
       " (1, 1, 1, 1),\n",
       " (1, 3, 3, 1),\n",
       " (1, 4, 4, 1),\n",
       " (3, 3, 3, 3),\n",
       " (3, 4, 4, 3),\n",
       " (4, 4, 4, 4),\n",
       " (1, 2, 1, 2),\n",
       " (1, 4, 3, 2),\n",
       " (1, 5, 4, 2),\n",
       " (3, 4, 3, 4),\n",
       " (3, 5, 4, 4),\n",
       " (4, 5, 4, 5),\n",
       " (2, 2, 2, 2),\n",
       " (2, 4, 4, 2),\n",
       " (2, 5, 5, 2),\n",
       " (4, 4, 4, 4),\n",
       " (4, 5, 5, 4),\n",
       " (5, 5, 5, 5)]"
      ]
     },
     "execution_count": 61,
     "metadata": {},
     "output_type": "execute_result"
    }
   ],
   "source": [
    "get_cov_blocks(get_cl_index(3))"
   ]
  },
  {
   "cell_type": "code",
   "execution_count": 73,
   "metadata": {},
   "outputs": [],
   "source": [
    "cov2 = reweighted_cov(cl[-1], nl, cov_blocks, ell, 0.25)"
   ]
  },
  {
   "cell_type": "code",
   "execution_count": 135,
   "metadata": {},
   "outputs": [
    {
     "data": {
      "text/plain": [
       "DeviceArray(True, dtype=bool)"
      ]
     },
     "execution_count": 135,
     "metadata": {},
     "output_type": "execute_result"
    }
   ],
   "source": [
    "jnp.array_equal(cov, cov2)"
   ]
  },
  {
   "cell_type": "code",
   "execution_count": 39,
   "metadata": {},
   "outputs": [
    {
     "name": "stdout",
     "output_type": "stream",
     "text": [
      "274 ms ± 2.3 ms per loop (mean ± std. dev. of 7 runs, 1 loop each)\n"
     ]
    }
   ],
   "source": [
    "# Original\n",
    "%timeit reweighted_cov(cl[-1], nl, cl_index, ell, 0.25).block_until_ready()"
   ]
  },
  {
   "cell_type": "code",
   "execution_count": 59,
   "metadata": {},
   "outputs": [
    {
     "name": "stdout",
     "output_type": "stream",
     "text": [
      "236 ms ± 351 µs per loop (mean ± std. dev. of 7 runs, 1 loop each)\n"
     ]
    }
   ],
   "source": [
    "# Pass in python list cov_blocks\n",
    "%timeit reweighted_cov(cl[-1], nl, cov_blocks, ell, 0.25).block_until_ready()"
   ]
  },
  {
   "cell_type": "code",
   "execution_count": 69,
   "metadata": {},
   "outputs": [
    {
     "name": "stdout",
     "output_type": "stream",
     "text": [
      "238 ms ± 2.88 ms per loop (mean ± std. dev. of 7 runs, 1 loop each)\n"
     ]
    }
   ],
   "source": [
    "# Pass in jnp.array cov_blocks\n",
    "%timeit reweighted_cov(cl[-1], nl, cov_blocks, ell, 0.25).block_until_ready()"
   ]
  },
  {
   "cell_type": "code",
   "execution_count": 71,
   "metadata": {},
   "outputs": [
    {
     "name": "stdout",
     "output_type": "stream",
     "text": [
      "237 ms ± 890 µs per loop (mean ± std. dev. of 7 runs, 1 loop each)\n"
     ]
    }
   ],
   "source": [
    "# Move /norm out of norm\n",
    "%timeit reweighted_cov(cl[-1], nl, cov_blocks, ell, 0.25).block_until_ready()"
   ]
  },
  {
   "cell_type": "code",
   "execution_count": 75,
   "metadata": {},
   "outputs": [
    {
     "name": "stdout",
     "output_type": "stream",
     "text": [
      "235 ms ± 459 µs per loop (mean ± std. dev. of 7 runs, 1 loop each)\n"
     ]
    }
   ],
   "source": [
    "# Include cov_blocks in jit\n",
    "%timeit reweighted_cov(cl[-1], nl, cov_blocks, ell, 0.25).block_until_ready()"
   ]
  },
  {
   "cell_type": "code",
   "execution_count": null,
   "metadata": {},
   "outputs": [],
   "source": []
  }
 ],
 "metadata": {
  "kernelspec": {
   "display_name": "Python 3",
   "language": "python",
   "name": "python3"
  },
  "language_info": {
   "codemirror_mode": {
    "name": "ipython",
    "version": 3
   },
   "file_extension": ".py",
   "mimetype": "text/x-python",
   "name": "python",
   "nbconvert_exporter": "python",
   "pygments_lexer": "ipython3",
   "version": "3.7.3"
  }
 },
 "nbformat": 4,
 "nbformat_minor": 2
}
