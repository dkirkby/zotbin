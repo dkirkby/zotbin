{
 "cells": [
  {
   "cell_type": "markdown",
   "metadata": {},
   "source": [
    "# Tomo Challenge Sandbox"
   ]
  },
  {
   "cell_type": "code",
   "execution_count": 1,
   "metadata": {},
   "outputs": [
    {
     "name": "stdout",
     "output_type": "stream",
     "text": [
      "Populating the interactive namespace from numpy and matplotlib\n"
     ]
    }
   ],
   "source": [
    "%pylab inline"
   ]
  },
  {
   "cell_type": "code",
   "execution_count": 2,
   "metadata": {},
   "outputs": [
    {
     "name": "stdout",
     "output_type": "stream",
     "text": [
      "Found classifier Random\n",
      "Found classifier RandomForest\n",
      "Found classifier IBandOnly\n"
     ]
    }
   ],
   "source": [
    "import tomo_challenge as tc"
   ]
  },
  {
   "cell_type": "code",
   "execution_count": 3,
   "metadata": {},
   "outputs": [],
   "source": [
    "import jax\n",
    "import jax.numpy as jnp\n",
    "import jax_cosmo as jc\n",
    "import jax_cosmo.sparse as sparse"
   ]
  },
  {
   "cell_type": "code",
   "execution_count": 4,
   "metadata": {},
   "outputs": [
    {
     "name": "stdout",
     "output_type": "stream",
     "text": [
      "gpu\n"
     ]
    }
   ],
   "source": [
    "from jax.lib import xla_bridge\n",
    "print(xla_bridge.get_backend().platform)"
   ]
  },
  {
   "cell_type": "markdown",
   "metadata": {},
   "source": [
    "## Challenge Data"
   ]
  },
  {
   "cell_type": "markdown",
   "metadata": {},
   "source": [
    "Specify options for loading the data:"
   ]
  },
  {
   "cell_type": "code",
   "execution_count": 5,
   "metadata": {},
   "outputs": [],
   "source": [
    "bands='riz'\n",
    "include_colors=True\n",
    "include_errors=True"
   ]
  },
  {
   "cell_type": "markdown",
   "metadata": {},
   "source": [
    "Load the training data:"
   ]
  },
  {
   "cell_type": "code",
   "execution_count": 6,
   "metadata": {},
   "outputs": [
    {
     "name": "stderr",
     "output_type": "stream",
     "text": [
      "/home/dkirkby/DESC/tomo/tomo_challenge/data.py:89: UserWarning: Setting inf (undetected) bands to mag=30\n",
      "  warnings.warn(\"Setting inf (undetected) bands to mag=30\")\n"
     ]
    },
    {
     "name": "stdout",
     "output_type": "stream",
     "text": [
      "Loaded 8615613 training rows.\n"
     ]
    }
   ],
   "source": [
    "training_file=f'/media/data2/tomo_challenge_data/ugrizy/training.hdf5'\n",
    "train_data_arr = tc.load_data(training_file, bands, \n",
    "                             errors=include_errors,\n",
    "                             colors=include_errors, array=True)\n",
    "training_z = tc.load_redshift(training_file)\n",
    "print(f'Loaded {len(train_data_arr)} training rows.')"
   ]
  },
  {
   "cell_type": "code",
   "execution_count": 7,
   "metadata": {},
   "outputs": [
    {
     "data": {
      "image/png": "[encoded data removed]",
      "text/plain": [
       "<Figure size 720x288 with 2 Axes>"
      ]
     },
     "metadata": {
      "needs_background": "light"
     },
     "output_type": "display_data"
    }
   ],
   "source": [
    "def plot_train():\n",
    "    fig, ax = plt.subplots(1, 2, figsize=(10, 4))\n",
    "    for band, idx in zip(bands, (0, 1, 2)):\n",
    "        ax[0].hist(train_data_arr[:, idx], bins=np.linspace(15, 30, 100), label=band, alpha=0.3)\n",
    "    ax[0].legend()\n",
    "    ax[0].set_xlabel('Magnitude')\n",
    "    ax[1].hist(training_z, bins=np.linspace(0, 3, 100))\n",
    "    ax[1].set_xlabel('Redshift')\n",
    "    \n",
    "plot_train()"
   ]
  },
  {
   "cell_type": "markdown",
   "metadata": {},
   "source": [
    "Load the validation data:"
   ]
  },
  {
   "cell_type": "code",
   "execution_count": 8,
   "metadata": {},
   "outputs": [
    {
     "name": "stdout",
     "output_type": "stream",
     "text": [
      "Loaded 17228554 validation rows.\n"
     ]
    }
   ],
   "source": [
    "validation_file=f'/media/data2/tomo_challenge_data/ugrizy/validation.hdf5'\n",
    "valid_data_arr = tc.load_data(validation_file, bands, \n",
    "                              errors=include_errors,\n",
    "                              colors=include_errors, array=True)\n",
    "val_z = tc.load_redshift(validation_file)\n",
    "print(f'Loaded {len(valid_data_arr)} validation rows.')"
   ]
  },
  {
   "cell_type": "markdown",
   "metadata": {},
   "source": [
    "Calculate percentile bins of redshift:"
   ]
  },
  {
   "cell_type": "code",
   "execution_count": 11,
   "metadata": {},
   "outputs": [],
   "source": [
    "def get_zedges(z, n):\n",
    "    return np.percentile(z, np.linspace(0, 100, n + 1))\n",
    "\n",
    "zedges = get_zedges(training_z, 20)"
   ]
  },
  {
   "cell_type": "markdown",
   "metadata": {},
   "source": [
    "## Random Forest Example"
   ]
  },
  {
   "cell_type": "code",
   "execution_count": 12,
   "metadata": {},
   "outputs": [],
   "source": [
    "nbins_rf = 4\n",
    "ntrain_rf = 20000\n",
    "nvalid_rf = 50000"
   ]
  },
  {
   "cell_type": "code",
   "execution_count": 13,
   "metadata": {},
   "outputs": [],
   "source": [
    "classifier = tc.Tomographer._find_subclass('RandomForest')(bands, {'bins': nbins_rf})"
   ]
  },
  {
   "cell_type": "code",
   "execution_count": 14,
   "metadata": {},
   "outputs": [
    {
     "name": "stdout",
     "output_type": "stream",
     "text": [
      "Finding bins for training data\n",
      "Fitting classifier\n"
     ]
    },
    {
     "name": "stderr",
     "output_type": "stream",
     "text": [
      "/opt/anaconda3/envs/ML/lib/python3.7/site-packages/sklearn/ensemble/forest.py:245: FutureWarning: The default value of n_estimators will change from 10 in version 0.20 to 100 in 0.22.\n",
      "  \"10 in version 0.20 to 100 in 0.22.\", FutureWarning)\n"
     ]
    }
   ],
   "source": [
    "classifier.train(train_data_arr[:ntrain_rf], training_z[:ntrain_rf])"
   ]
  },
  {
   "cell_type": "code",
   "execution_count": 15,
   "metadata": {},
   "outputs": [],
   "source": [
    "idx_rf = classifier.apply(valid_data_arr[:nvalid_rf])\n",
    "z_rf = val_z[:nvalid_rf]"
   ]
  },
  {
   "cell_type": "code",
   "execution_count": 16,
   "metadata": {},
   "outputs": [
    {
     "data": {
      "image/png": "[encoded data removed]",
      "text/plain": [
       "<Figure size 432x288 with 1 Axes>"
      ]
     },
     "metadata": {
      "needs_background": "light"
     },
     "output_type": "display_data"
    }
   ],
   "source": [
    "def plot_rf_bins():\n",
    "    zbins = np.linspace(0, 3, 100)\n",
    "    for bin in range(nbins_rf):\n",
    "        plt.hist(z_rf[idx_rf == bin], zbins, alpha=0.5, label=f'bin {bin}')\n",
    "    plt.legend()\n",
    "    plt.xlabel('Redshift')\n",
    "    \n",
    "plot_rf_bins()"
   ]
  },
  {
   "cell_type": "code",
   "execution_count": 19,
   "metadata": {},
   "outputs": [
    {
     "name": "stderr",
     "output_type": "stream",
     "text": [
      "/opt/anaconda3/envs/ML/lib/python3.7/site-packages/jax/lax/lax.py:5905: UserWarning: Explicitly requested dtype <class 'jax.numpy.lax_numpy.int64'> requested in astype is not available, and will be truncated to dtype int32. To enable more dtypes, set the jax_enable_x64 configuration option or the JAX_ENABLE_X64 shell environment variable. See https://github.com/google/jax#current-gotchas for more.\n",
      "  warnings.warn(msg.format(dtype, fun_name , truncated_dtype))\n"
     ]
    },
    {
     "name": "stdout",
     "output_type": "stream",
     "text": [
      "CPU times: user 3min 2s, sys: 21.5 s, total: 3min 24s\n",
      "Wall time: 3min 40s\n"
     ]
    }
   ],
   "source": [
    "%time scores_rf = tc.jc_compute_scores(results, z_rf, metrics='all') #['SNR_3x2', 'FOM_3x2', 'FOM_DETF_3x2'])"
   ]
  },
  {
   "cell_type": "code",
   "execution_count": 20,
   "metadata": {},
   "outputs": [
    {
     "data": {
      "text/plain": [
       "{'SNR_ww': 347.01068115234375,\n",
       " 'FOM_ww': 25.575666427612305,\n",
       " 'FOM_DETF_ww': 0.7120426297187805,\n",
       " 'SNR_gg': 1172.628173828125,\n",
       " 'FOM_gg': 608.364013671875,\n",
       " 'FOM_DETF_gg': 6.4218525886535645,\n",
       " 'SNR_3x2': 1174.98095703125,\n",
       " 'FOM_3x2': 2074.23828125,\n",
       " 'FOM_DETF_3x2': 48.22594451904297}"
      ]
     },
     "execution_count": 20,
     "metadata": {},
     "output_type": "execute_result"
    }
   ],
   "source": [
    "scores_rf"
   ]
  },
  {
   "cell_type": "markdown",
   "metadata": {},
   "source": [
    "## Jax-Cosmo Calculations"
   ]
  },
  {
   "cell_type": "markdown",
   "metadata": {},
   "source": [
    "### Initialization"
   ]
  },
  {
   "cell_type": "markdown",
   "metadata": {},
   "source": [
    "Define the fiducial cosmology and ell binning:"
   ]
  },
  {
   "cell_type": "code",
   "execution_count": 17,
   "metadata": {},
   "outputs": [],
   "source": [
    "cosmo = jc.Cosmology(\n",
    "    Omega_c = 0.27,\n",
    "    Omega_b = 0.045,\n",
    "    h = 0.67,\n",
    "    n_s = 0.96,\n",
    "    sigma8 = 0.8404844953840714,\n",
    "    Omega_k=0.,\n",
    "    w0=-1., wa=0.)"
   ]
  },
  {
   "cell_type": "code",
   "execution_count": 18,
   "metadata": {},
   "outputs": [],
   "source": [
    "ell, _ = tc.jax_metrics.ell_binning()"
   ]
  },
  {
   "cell_type": "markdown",
   "metadata": {},
   "source": [
    "### Random Forest Calculations"
   ]
  },
  {
   "cell_type": "markdown",
   "metadata": {},
   "source": [
    "Calculate $\\mu$ and $C$ for the random-forest results:"
   ]
  },
  {
   "cell_type": "code",
   "execution_count": 21,
   "metadata": {},
   "outputs": [],
   "source": [
    "onehot_rf = jax.nn.one_hot(idx_rf, idx_rf.max() + 1)\n",
    "probes_rf = tc.jax_metrics.get_probes(onehot_rf, z_rf, what='gg')"
   ]
  },
  {
   "cell_type": "code",
   "execution_count": 23,
   "metadata": {},
   "outputs": [
    {
     "name": "stdout",
     "output_type": "stream",
     "text": [
      "CPU times: user 5.39 s, sys: 278 ms, total: 5.66 s\n",
      "Wall time: 5.1 s\n"
     ]
    }
   ],
   "source": [
    "%time cl_rf = jc.angular_cl.angular_cl(cosmo, ell, probes_rf)"
   ]
  },
  {
   "cell_type": "code",
   "execution_count": 28,
   "metadata": {},
   "outputs": [],
   "source": [
    "nl_rf = jc.angular_cl.noise_cl(ell, probes_rf)"
   ]
  },
  {
   "cell_type": "code",
   "execution_count": 26,
   "metadata": {},
   "outputs": [],
   "source": [
    "#%time mu, C = jc.angular_cl.gaussian_cl_covariance_and_mean(cosmo, ell, probes, f_sky=0.25, nonlinear_fn=jc.power.halofit, sparse=True)"
   ]
  },
  {
   "cell_type": "code",
   "execution_count": 29,
   "metadata": {},
   "outputs": [
    {
     "data": {
      "text/plain": [
       "((10, 100), (10, 100))"
      ]
     },
     "execution_count": 29,
     "metadata": {},
     "output_type": "execute_result"
    }
   ],
   "source": [
    "cl_rf.shape, nl_rf.shape"
   ]
  },
  {
   "cell_type": "code",
   "execution_count": 31,
   "metadata": {},
   "outputs": [
    {
     "data": {
      "image/png": "[encoded data removed]",
      "text/plain": [
       "<Figure size 432x288 with 1 Axes>"
      ]
     },
     "metadata": {
      "needs_background": "light"
     },
     "output_type": "display_data"
    }
   ],
   "source": [
    "plt.semilogy(cl_rf.reshape(-1));\n",
    "plt.semilogy(nl_rf.reshape(-1));"
   ]
  },
  {
   "cell_type": "code",
   "execution_count": 32,
   "metadata": {},
   "outputs": [],
   "source": [
    "#plt.semilogy(np.diag(sparse.to_dense(C)), '-');"
   ]
  },
  {
   "cell_type": "markdown",
   "metadata": {},
   "source": [
    "## Formalism"
   ]
  },
  {
   "cell_type": "markdown",
   "metadata": {},
   "source": [
    "Each combination, indexed by $i$, of a probe P_i (WL, number density, etc) and a redshift bin with normalized density $dn_i/dz(z)$ has an associated kernel function $K_i(a, \\ell)$. The power spectrum associated with the pair $(i,j)$ is:\n",
    "$$\n",
    "c_{i,j}(\\ell) = \\frac{1}{c^2} \\int_0^1 da K_i(a, \\ell) K_j(a, \\ell) F(a, \\ell)\n",
    "$$\n",
    "where $F$ depends on the assumed cosmology but not on $i$ or $j$:\n",
    "$$\n",
    "F(a, \\ell) = P_{NL}\\left(\\frac{\\ell + 1/2}{\\chi(a)}, a\\right) \\frac{1}{\\chi(a)^2} \\frac{d\\chi}{da}(a) \\; .\n",
    "$$"
   ]
  },
  {
   "cell_type": "markdown",
   "metadata": {},
   "source": [
    "The kernel is linear in the normalized density so if we combine two redshift bins $a + b \\rightarrow ab$ according to\n",
    "$$\n",
    "\\frac{dn_{ab}}{dz}(z) = \\alpha \\frac{dn_{a}}{dz}x(z) + \\beta \\frac{dn_{b}}{dz}(z) \\; ,\n",
    "$$\n",
    "with $\\alpha + \\beta = 1$, then\n",
    "$$\n",
    "K_{ab}(a, \\ell) = \\alpha K_a(a, \\ell) + \\beta K_b(a, \\ell)\n",
    "$$\n",
    "and\n",
    "$$\n",
    "c_{ab,j}(\\ell) = \\frac{1}{c^2} \\int_0^1 da \\left[ \\alpha K_a(a, \\ell) + \\beta K_b(a, \\ell) \\right] K_j(a, \\ell) F(a, \\ell)\n",
    "= \\alpha c_{a,j}(\\ell) + \\beta c_{b,j}(\\ell) \\; .\n",
    "$$"
   ]
  },
  {
   "cell_type": "markdown",
   "metadata": {},
   "source": [
    "More generally, suppose we define new redshift bins for each probe that are linear combinations of the original redshift bins (for the same probe):\n",
    "$$\n",
    "\\frac{dn'_i}{dz} = \\left. \\sum_j M_{ij} \\frac{dn_j}{dz} \\middle/ \\sum_j M_{ij} \\right. = \\sum_j \\tilde{M}_{ij} \\frac{dn_j}{dz}\n",
    "$$\n",
    "with\n",
    "$$\n",
    "\\tilde{M}_{ij} \\equiv \\frac{M_{ij}}{\\sum_p M_{ip}} \\; .\n",
    "$$"
   ]
  },
  {
   "cell_type": "markdown",
   "metadata": {},
   "source": [
    "then, in matrix notation,\n",
    "$$\n",
    "\\mathbf{K}'(a, \\ell) = \\tilde{M}\\cdot \\mathbf{K}(a, \\ell)\n",
    "$$\n",
    "and\n",
    "$$\n",
    "\\mathbf{c}'(\\ell) = \\frac{1}{c^2} \\int_0^1 da\n",
    "\\left[ \\tilde{M}\\cdot \\mathbf{K}(a, \\ell) \\right]\n",
    "\\left[ \\tilde{M}\\cdot \\mathbf{K}(a, \\ell) \\right]^T F(a, \\ell)\n",
    "= \\tilde{M}\\cdot \\mathbf{c}(\\ell) \\cdot \\tilde{M}^T \\; .\n",
    "$$"
   ]
  },
  {
   "cell_type": "markdown",
   "metadata": {},
   "source": [
    "Note that the matrix $M$ is block diagonal, with blocks corresponding to each probe, since the new bins do not mix probes."
   ]
  },
  {
   "cell_type": "markdown",
   "metadata": {},
   "source": [
    "The noise power for the new bins is:\n",
    "$$\n",
    "\\mathbf{n}'(\\ell) = \\left[ W \\cdot \\mathbf{n}(\\ell)^{-1}\\cdot W^T \\right]^{-1}\n",
    "$$\n",
    "where the inverse is applied element wise and $W$ are ... (see code below)"
   ]
  },
  {
   "cell_type": "markdown",
   "metadata": {},
   "source": [
    "The kernel for the galaxy number density probe is:\n",
    "$$\n",
    "K(a, \\ell) = \\frac{dn}{dz}(z(a)) b(a) H(a)\n",
    "$$\n",
    "and for the weak lensing probe (neglecting intrinsic alignments for now):\n",
    "$$\n",
    "K(a, \\ell) = \\frac{3 \\Omega_m H_0^2}{2 c} \\sqrt{\\frac{(\\ell - 1) \\ell (\\ell + 1) (\\ell + 2)}{\\ell + 1/2}}\n",
    "\\frac{\\chi(a)}{a} \\int_{z(a)}^\\infty dz' \\frac{dn}{dz}(z) \\frac{\\chi(a(z')) - \\chi(a)}{\\chi(a(z'))}\n",
    "$$"
   ]
  },
  {
   "cell_type": "markdown",
   "metadata": {},
   "source": [
    "The signal-to-noise metric is defined as:\n",
    "$$\n",
    "\\nu^2 = \\mu^t C^{-1} \\mu \\; .\n",
    "$$\n",
    "If we break the prediction into blocks $\\mu = \\begin{bmatrix} \\mu_0 & \\mu_1 \\end{bmatrix}$\n",
    "with\n",
    "$$\n",
    "C^{-1} = \\begin{bmatrix}\n",
    "C^{-1}_{00} & C^{-1}_{01} \\\\\n",
    "C^{-1}_{01} & C^{-1}_{11}\n",
    "\\end{bmatrix}\n",
    "$$\n",
    "then\n",
    "$$\n",
    "\\nu^2 = \\mu_0^t C^{-1}_{00} \\mu_0 + 2 \\mu_0^t C^{-1}_{01} \\mu_1 + \\mu_1^t C^{-1}_{11} \\mu_t \\; .\n",
    "$$"
   ]
  },
  {
   "cell_type": "markdown",
   "metadata": {},
   "source": [
    "Suppose we combine 2 redshift bins for a single probe and define block 0 to contain only the contributions that are affected by this change, resulting in a block 2 after the change, then the resulting change in the metric is:\n",
    "$$\n",
    "\\Delta \\nu^2 = \\left[ \\mu_0^t C^{-1}_{00} \\mu_0 + 2 \\mu_0^t C^{-1}_{01} \\mu_1 \\right] -\n",
    "\\left[ \\mu_2^t C^{-1}_{22} \\mu_2 + 2 \\mu_2^t C^{-1}_{21} \\mu_1 \\right]\n",
    "$$"
   ]
  },
  {
   "cell_type": "markdown",
   "metadata": {},
   "source": [
    "If $\\mu$ originally has contributions from $N$ kernels, then it consists of $N(N + 1)/2$ sections, one for each pair of kernels, of which $2N - 1$ belong to $\\mu_0$ and the resulting $\\mu_2$ has $N - 1$ sections after joining two redshift bins."
   ]
  },
  {
   "cell_type": "markdown",
   "metadata": {},
   "source": [
    "## Reweighting"
   ]
  },
  {
   "cell_type": "markdown",
   "metadata": {},
   "source": [
    "### Old Method"
   ]
  },
  {
   "cell_type": "code",
   "execution_count": 33,
   "metadata": {},
   "outputs": [],
   "source": [
    "def expand_symmetric(upper, size):\n",
    "    upper = np.asarray(upper)\n",
    "    assert len(upper) == size * (size + 1) // 2\n",
    "    out = np.empty((size, size) + upper.shape[1:], upper.dtype)\n",
    "    idx = 0\n",
    "    for i1 in range(size):\n",
    "        for i2 in range(i1, size):\n",
    "            out[i1, i2] = upper[idx]\n",
    "            if i2 > i1:\n",
    "                out[i2, i1] = upper[idx]\n",
    "            idx += 1\n",
    "    return out"
   ]
  },
  {
   "cell_type": "code",
   "execution_count": 34,
   "metadata": {},
   "outputs": [],
   "source": [
    "def compress_symmetric(full):\n",
    "    size = len(full)\n",
    "    assert full.shape[1] == size\n",
    "    nout = size * (size + 1) // 2\n",
    "    out = np.empty((nout,) + full.shape[2:], full.dtype)\n",
    "    idx = 0\n",
    "    for i1 in range(size):\n",
    "        for i2 in range(i1, size):\n",
    "            out[idx] = full[i1, i2]\n",
    "            idx += 1\n",
    "    return out"
   ]
  },
  {
   "cell_type": "code",
   "execution_count": 35,
   "metadata": {},
   "outputs": [],
   "source": [
    "def reweighted_angular_cl(cl_in, probes, weights, noise=False):\n",
    "    if len(probes) != len(weights):\n",
    "        raise ValueError('Expected same number of probes and weights.')\n",
    "    nprobe = len(probes)\n",
    "    w = [None] * nprobe\n",
    "    breaks_in, breaks_out = [0], [0]\n",
    "    for i in range(nprobe):\n",
    "        P = probes[i]\n",
    "        W = np.array(weights[i], dtype=float)\n",
    "        # Check that the number of weights matches the number of zbins for this probe.\n",
    "        nout, nin = W.shape\n",
    "        if nin != P.n_tracers:\n",
    "            raise ValueError(f'Weight dimension does not match number of zbins for probe[{i}].')\n",
    "        breaks_in.append(breaks_in[-1] + nin)\n",
    "        breaks_out.append(breaks_out[-1] + nout)\n",
    "        if not noise:\n",
    "            # Include the relative normalizations of each original zbin.\n",
    "            W *= np.array([pz.gals_per_steradian for pz in P.params[0]])\n",
    "            W /= np.sum(W, axis=1, keepdims=True)\n",
    "        print(f'probe[{i}]:\\n', np.round(W, 4))\n",
    "        w[i] = W\n",
    "    # Check that cl has the expected dimensions.\n",
    "    cl_in = np.array(cl_in)\n",
    "    ncl, nell = cl_in.shape\n",
    "    nin = breaks_in[-1]\n",
    "    assert ncl == (nin * (nin + 1)) // 2\n",
    "    if noise:\n",
    "        np.divide(1, cl_in, where=cl_in != 0, out=cl_in)\n",
    "    # Expand the input cls into a symmetric matrix.\n",
    "    cl_in = expand_symmetric(cl_in, nin)\n",
    "    # Allocate memory for the output cls as a symmetric matrix.\n",
    "    nout = breaks_out[-1]\n",
    "    cl_out = np.empty((nout, nout, nell), dtype=cl_in.dtype)\n",
    "    # Loop over pairs of probes. Although we allocate memory for the full\n",
    "    # matrix, we only need to fill blocks on and above the diagonal.\n",
    "    for i1 in range(nprobe):\n",
    "        S1in = slice(breaks_in[i1], breaks_in[i1 + 1])\n",
    "        S1out = slice(breaks_out[i1], breaks_out[i1 + 1])\n",
    "        for i2 in range(i1, nprobe):\n",
    "            S2in = slice(breaks_in[i2], breaks_in[i2 + 1])\n",
    "            S2out = slice(breaks_out[i2], breaks_out[i2 + 1])\n",
    "            cl_out[S1out, S2out] = np.einsum('ip,pqk,jq->ijk', w[i1], cl_in[S1in, S2in], w[i2])\n",
    "    # Compress the symmetric output cls.\n",
    "    cl_out = compress_symmetric(cl_out)\n",
    "    if noise:\n",
    "        np.divide(1, cl_out, where=cl_out != 0, out=cl_out)\n",
    "    return cl_out"
   ]
  },
  {
   "cell_type": "markdown",
   "metadata": {},
   "source": [
    "### New Method"
   ]
  },
  {
   "cell_type": "code",
   "execution_count": 123,
   "metadata": {},
   "outputs": [],
   "source": [
    "def init_reweighting(probes, cl):\n",
    "    \"\"\"\n",
    "    \"\"\"\n",
    "    nprobe = len(probes)\n",
    "    ncl, nell = cl.shape\n",
    "    nzbin = np.array([probe.n_tracers for probe in probes])\n",
    "    breaks = np.concatenate(([0], np.cumsum(nzbin)))\n",
    "    nztot = breaks[-1]\n",
    "    assert ncl == nztot * (nztot + 1) // 2\n",
    "    ngals = [np.array([pz.gals_per_arcmin2 for pz in probe.params[0]]) for probe in probes]\n",
    "    noise = [ np.array(probe.noise()) for probe in probes]\n",
    "    cl_in = [[np.empty((nzbin[i], nzbin[j], nell), np.float32) for j in range(i + 1)] for i in range(nprobe)]\n",
    "    \n",
    "    idx, j1 = 0, 0\n",
    "    for i1 in range(nztot):\n",
    "        if i1 == breaks[j1 + 1]:\n",
    "            j1 += 1\n",
    "        k1 = i1 - breaks[j1]\n",
    "        j2 = j1\n",
    "        for i2 in range(i1, nztot):\n",
    "            if i2 == breaks[j2 + 1]:\n",
    "                j2 += 1\n",
    "            k2 = i2 - breaks[j2]\n",
    "            #print(f'sparse [{idx}] at [{i1},{i2}] -> block [{j2},{j1}] at [{k1},{k2}]')\n",
    "            cl_in[j2][j1][k1, k2] = cl[idx]\n",
    "            if j1 == j2 and k1 != k2:\n",
    "                assert k2 > k1\n",
    "                # Symmetrize off-diagonal elements of the diagonal blocks.\n",
    "                cl_in[j2][j1][k2, k1] = cl_in[j2][j1][k1, k2]\n",
    "            idx += 1\n",
    "\n",
    "    return ngals, noise, cl_in"
   ]
  },
  {
   "cell_type": "code",
   "execution_count": 195,
   "metadata": {},
   "outputs": [],
   "source": [
    "def reweight_noise_cl(weights, gals_per_arcmin2, ngals, noise, nell):\n",
    "    \"\"\"\n",
    "    \"\"\"\n",
    "    assert len(weights) == len(noise)\n",
    "    nprobe = len(weights)\n",
    "    noise_out = []\n",
    "    ntracers = 0\n",
    "    for i in range(nprobe):\n",
    "        noise_inv_in = 1 / (ngals[i] * noise[i])\n",
    "        noise_inv_out = gals_per_arcmin2 * weights[i].dot(noise_inv_in)\n",
    "        noise_out.append(1 / noise_inv_out)\n",
    "        ntracers += len(noise_inv_out)\n",
    "    noise = jnp.array(np.concatenate(noise_out))\n",
    "    \n",
    "    # Define an ordering for the blocks of the signal vector\n",
    "    cl_index = []\n",
    "    for i in range(ntracers):\n",
    "        for j in range(i, ntracers):\n",
    "            cl_index.append((i, j))\n",
    "\n",
    "    # Only include a noise contribution for the auto-spectra\n",
    "    def get_noise_cl(inds):\n",
    "        i, j = inds\n",
    "        delta = 1.0 - jnp.clip(jnp.abs(i - j), 0.0, 1.0)\n",
    "        return noise[i] * delta * jnp.ones(nell)\n",
    "\n",
    "    return jax.lax.map(get_noise_cl, jnp.array(cl_index))"
   ]
  },
  {
   "cell_type": "code",
   "execution_count": 196,
   "metadata": {},
   "outputs": [],
   "source": [
    "def reweight_cl(weights, ngals, cl_in):\n",
    "    \"\"\"\n",
    "    \"\"\"\n",
    "    assert len(weights) == len(ngals)\n",
    "    nprobe = len(weights)\n",
    "    offset = 0\n",
    "    w = [None] * nprobe\n",
    "    nzbin = np.array([len(W) for W in weights])\n",
    "    nout = np.sum(nzbin * (1 + np.arange(nprobe)))\n",
    "    cl_out = [None] * nout\n",
    "    for i1 in range(nprobe):\n",
    "        nrow = len(weights[i1])\n",
    "        rowstep = nprobe - i1\n",
    "        for i2 in range(i1, nprobe):\n",
    "            assert weights[i2].shape[1] == len(ngals[i2])\n",
    "            W = weights[i2] * ngals[i2]\n",
    "            W = W / np.sum(W, axis=1, keepdims=True)\n",
    "            w[i2] = W\n",
    "            cl = np.einsum('ip,pqk,jq->ijk', w[i1], cl_in[i2][i1], w[i2])\n",
    "            for j in range(nrow):\n",
    "                start = j if i1 == i2 else 0\n",
    "                cl_out[offset + j * rowstep + i2 - i1] = cl[j, start:]\n",
    "        offset += nrow * rowstep\n",
    "    return jnp.array(np.concatenate(cl_out, axis=0))   "
   ]
  },
  {
   "cell_type": "code",
   "execution_count": 37,
   "metadata": {},
   "outputs": [],
   "source": [
    "def do_reweight_angular_cl(weights, ngals, cl_in, cl_noise_in):\n",
    "    \"\"\"\n",
    "    \"\"\"\n",
    "    assert len(weights) == len(ngals)\n",
    "    nprobe = len(weights)\n",
    "    w = [None] * nprobe\n",
    "    wn = [None] * nprobe\n",
    "    nzbin = np.array([len(W) for W in weights])\n",
    "    \n",
    "    nsparse = np.sum(nzbin * (1 + np.arange(nprobe)))\n",
    "    cl_sparse = [None] * nsparse\n",
    "    cl_noise_sparse = [None] * nsparse\n",
    "    \n",
    "    offset = 0\n",
    "    for i1 in range(nprobe):\n",
    "        nrow = len(weights[i1])\n",
    "        rowstep = nprobe - i1\n",
    "        for i2 in range(i1, nprobe):\n",
    "            #print(i1, i2, nrow, offset)\n",
    "            Wn = np.array(weights[i2], np.float32)\n",
    "            assert Wn.shape[1] == len(ngals[i2])\n",
    "            W = Wn * ngals[i2]\n",
    "            W = W / np.sum(W, axis=1, keepdims=True)\n",
    "            w[i2] = W\n",
    "            wn[i2] = Wn\n",
    "\n",
    "            cl = np.einsum('ip,pqk,jq->ijk', w[i1], cl_in[i2][i1], w[i2])\n",
    "            cl_noise = np.einsum('ip,pqk,jq->ijk', wn[i1], cl_noise_in[i2][i1], wn[i2])\n",
    "            \n",
    "            for j in range(nrow):\n",
    "                start = j if i1 == i2 else 0\n",
    "                #print('>', j, start, offset + j * rowstep + i2 - i1)\n",
    "                cl_sparse[offset + j * rowstep + i2 - i1] = cl[j, start:]\n",
    "                cl_noise_sparse[offset + j * rowstep + i2 - i1] = cl_noise[j, start:]\n",
    "        offset += nrow * rowstep\n",
    "        \n",
    "    cl_out = np.concatenate(cl_sparse, axis=0)\n",
    "    cl_noise_out = np.concatenate(cl_noise_sparse, axis=0)\n",
    "    \n",
    "    cl_noise_out = np.divide(1, cl_noise_out, out=cl_noise_out, where=cl_noise_out != 0)\n",
    "        \n",
    "    return cl_out, cl_noise_out"
   ]
  },
  {
   "cell_type": "markdown",
   "metadata": {},
   "source": [
    "## Redshift Bins"
   ]
  },
  {
   "cell_type": "markdown",
   "metadata": {},
   "source": [
    "### Constant Bins"
   ]
  },
  {
   "cell_type": "code",
   "execution_count": 38,
   "metadata": {},
   "outputs": [],
   "source": [
    "@jax.tree_util.register_pytree_node_class\n",
    "class bin_nz(jc.redshift.redshift_distribution):\n",
    "    \"\"\"Defines a bin of constant dn/dz\n",
    "    \"\"\"\n",
    "    def __init__(self, zlo, zhi, gals_per_arcmin2, zmax):\n",
    "        super(bin_nz, self).__init__(\n",
    "            zlo, zhi, # autograd variables\n",
    "            gals_per_arcmin2=gals_per_arcmin2, zmax=zmax # base-class config\n",
    "        )\n",
    "        # Do no perform numerical normalization.\n",
    "        self._norm = 1.\n",
    "        \n",
    "    def pz_fn(self, z):\n",
    "        raise NotImplementedError\n",
    "    #    zlo, zhi = self.params\n",
    "    #    return jnp.maximum(0., jnp.sign((z - zlo) * (zhi - z)) / (zhi - zlo))\n",
    "\n",
    "    def __call__(self, z):\n",
    "        zlo, zhi = self.params\n",
    "        return jnp.maximum(0., jnp.sign((z - zlo) * (zhi - z)) / (zhi - zlo))"
   ]
  },
  {
   "cell_type": "markdown",
   "metadata": {},
   "source": [
    "TODO: add bias as a parameter (why is it 1??)"
   ]
  },
  {
   "cell_type": "code",
   "execution_count": 39,
   "metadata": {},
   "outputs": [],
   "source": [
    "def get_bin_probes(zedges, what='3x2', sigma_e=0.26, gals_per_arcmin2=1.):\n",
    "\n",
    "    nzbins = len(zedges) - 1\n",
    "    zbins = []\n",
    "    for i in range(nzbins):\n",
    "        zbin = bin_nz(\n",
    "            zedges[i], zedges[i + 1],\n",
    "            gals_per_arcmin2=gals_per_arcmin2, zmax=zedges[-1])\n",
    "        zbins.append(zbin)\n",
    "\n",
    "    probes = []\n",
    "    # start with number counts\n",
    "    if (what == 'gg' or what == '3x2'):\n",
    "        # Define a bias parameterization\n",
    "        bias = jc.bias.inverse_growth_linear_bias(1.)\n",
    "        probes.append(jc.probes.NumberCounts(zbins, bias))\n",
    "\n",
    "    if (what == 'ww' or what == '3x2'):\n",
    "        probes.append(jc.probes.WeakLensing(zbins, sigma_e=sigma_e))\n",
    "\n",
    "    return probes"
   ]
  },
  {
   "cell_type": "code",
   "execution_count": 40,
   "metadata": {},
   "outputs": [],
   "source": [
    "B1 = get_bin_probes(zedges, 'gg')"
   ]
  },
  {
   "cell_type": "code",
   "execution_count": 41,
   "metadata": {},
   "outputs": [
    {
     "data": {
      "image/png": "[encoded data removed]",
      "text/plain": [
       "<Figure size 432x288 with 1 Axes>"
      ]
     },
     "metadata": {
      "needs_background": "light"
     },
     "output_type": "display_data"
    }
   ],
   "source": [
    "def plot_nz(probe):\n",
    "    z = np.linspace(0, probe.zmax, 500)\n",
    "    for pz in probe.params[0]:\n",
    "        plt.plot(z, pz(z), '-')\n",
    "        \n",
    "plot_nz(B1[0])"
   ]
  },
  {
   "cell_type": "code",
   "execution_count": 42,
   "metadata": {},
   "outputs": [
    {
     "name": "stdout",
     "output_type": "stream",
     "text": [
      "CPU times: user 6.52 s, sys: 679 ms, total: 7.2 s\n",
      "Wall time: 7.72 s\n"
     ]
    }
   ],
   "source": [
    "%time clB1 = jc.angular_cl.angular_cl(cosmo, ell, B1)"
   ]
  },
  {
   "cell_type": "code",
   "execution_count": 43,
   "metadata": {},
   "outputs": [],
   "source": [
    "nlB1 = jc.angular_cl.noise_cl(ell, B1)"
   ]
  },
  {
   "cell_type": "code",
   "execution_count": 44,
   "metadata": {},
   "outputs": [
    {
     "data": {
      "text/plain": [
       "((210, 100), (210, 100))"
      ]
     },
     "execution_count": 44,
     "metadata": {},
     "output_type": "execute_result"
    }
   ],
   "source": [
    "clB1.shape, nlB1.shape"
   ]
  },
  {
   "cell_type": "code",
   "execution_count": 45,
   "metadata": {},
   "outputs": [
    {
     "data": {
      "image/png": "[encoded data removed]",
      "text/plain": [
       "<Figure size 864x360 with 1 Axes>"
      ]
     },
     "metadata": {
      "needs_background": "light"
     },
     "output_type": "display_data"
    }
   ],
   "source": [
    "def plot_cl(cl, cln):\n",
    "    plt.figure(figsize=(12, 5))\n",
    "    plt.semilogy(cl.reshape(-1), '.', ms=0.2)\n",
    "    plt.semilogy(cln.reshape(-1), '.', ms=1)\n",
    "    \n",
    "plot_cl(clB1, nlB1)"
   ]
  },
  {
   "cell_type": "markdown",
   "metadata": {},
   "source": [
    "### Reweighted Bins"
   ]
  },
  {
   "cell_type": "code",
   "execution_count": 125,
   "metadata": {},
   "outputs": [],
   "source": [
    "def init_binned_cl(zedges, what='3x2', sigma_e=0.26):\n",
    "    probes = get_bin_probes(zedges, what, sigma_e, gals_per_arcmin2=1.)\n",
    "    cl = jc.angular_cl.angular_cl(cosmo, ell, probes)\n",
    "    nl = jc.angular_cl.noise_cl(ell, probes)\n",
    "    plot_cl(cl, nl)\n",
    "    return init_reweighting(probes, cl)"
   ]
  },
  {
   "cell_type": "code",
   "execution_count": 126,
   "metadata": {},
   "outputs": [
    {
     "name": "stdout",
     "output_type": "stream",
     "text": [
      "CPU times: user 5.83 s, sys: 443 ms, total: 6.27 s\n",
      "Wall time: 5.53 s\n"
     ]
    },
    {
     "data": {
      "image/png": "[encoded data removed]",
      "text/plain": [
       "<Figure size 864x360 with 1 Axes>"
      ]
     },
     "metadata": {
      "needs_background": "light"
     },
     "output_type": "display_data"
    }
   ],
   "source": [
    "%time ngals, noise, cl_in = init_binned_cl(zedges, 'gg')"
   ]
  },
  {
   "cell_type": "code",
   "execution_count": 145,
   "metadata": {},
   "outputs": [],
   "source": [
    "def get_binned_weights(zedges, z, idx):\n",
    "    \"\"\"Calculate the weight matrix for galaxies with redshifts z and corresponding output bins idx.\n",
    "    \n",
    "    Any galaxies with z < zedges[0] or z >= zedges[-1] contribute to the normalization only.\n",
    "    \"\"\"\n",
    "    idx_out = np.array(idx, int)\n",
    "    assert len(z) == len(idx_out)\n",
    "    ntot = len(z)\n",
    "    nout = idx_out.max() + 1\n",
    "    nin = len(zedges) - 1\n",
    "    idx_in = np.digitize(z, zedges) - 1\n",
    "    inbounds = (idx_in >= 0) & (idx_in < nin)\n",
    "    weights = []\n",
    "    for ibin in range(nout):\n",
    "        weights.append(np.bincount(idx_in[(idx_out == ibin) & inbounds], minlength=nin))\n",
    "    return np.vstack(weights) / ntot"
   ]
  },
  {
   "cell_type": "code",
   "execution_count": 146,
   "metadata": {},
   "outputs": [],
   "source": [
    "w = get_binned_weights(zedges, z_rf, idx_rf)"
   ]
  },
  {
   "cell_type": "code",
   "execution_count": 147,
   "metadata": {},
   "outputs": [
    {
     "data": {
      "image/png": "[encoded data removed]",
      "text/plain": [
       "<Figure size 432x288 with 1 Axes>"
      ]
     },
     "metadata": {
      "needs_background": "light"
     },
     "output_type": "display_data"
    }
   ],
   "source": [
    "plt.plot(w.T);"
   ]
  },
  {
   "cell_type": "code",
   "execution_count": 206,
   "metadata": {},
   "outputs": [],
   "source": [
    "def get_binned_cl_cov(weights, gals_per_arcmin2, ngals, noise, cl_in):\n",
    "    \n",
    "    cl_out = reweight_cl(weights, ngals, cl_in)\n",
    "    nell = cl_out.shape[1]\n",
    "    nl_out = reweight_noise_cl(weights, gals_per_arcmin2, ngals, noise, nell)\n",
    "\n",
    "    return cl_out, nl_out"
   ]
  },
  {
   "cell_type": "code",
   "execution_count": 207,
   "metadata": {},
   "outputs": [],
   "source": [
    "cl_out, nl_out = get_binned_cl_cov([w], 20., ngals, noise, cl_in)"
   ]
  },
  {
   "cell_type": "code",
   "execution_count": 208,
   "metadata": {},
   "outputs": [
    {
     "data": {
      "image/png": "[encoded data removed]",
      "text/plain": [
       "<Figure size 432x288 with 1 Axes>"
      ]
     },
     "metadata": {
      "needs_background": "light"
     },
     "output_type": "display_data"
    }
   ],
   "source": [
    "plt.semilogy(cl_out.reshape(-1));\n",
    "plt.semilogy(cl_rf.reshape(-1), 'r.', ms=1);\n",
    "plt.semilogy(nl_out.reshape(-1));\n",
    "plt.semilogy(nl_rf.reshape(-1), 'b.', ms=1);"
   ]
  },
  {
   "cell_type": "markdown",
   "metadata": {},
   "source": [
    "### Smail Slices"
   ]
  },
  {
   "cell_type": "markdown",
   "metadata": {},
   "source": [
    "Define a redshift bin that is a slice of a Smail distribution with hard edges:"
   ]
  },
  {
   "cell_type": "code",
   "execution_count": 208,
   "metadata": {},
   "outputs": [],
   "source": [
    "from jax.scipy.special import gammaln, gammaincc"
   ]
  },
  {
   "cell_type": "code",
   "execution_count": 209,
   "metadata": {},
   "outputs": [],
   "source": [
    "@jax.tree_util.register_pytree_node_class\n",
    "class slice_nz(jc.redshift.redshift_distribution):\n",
    "    \"\"\"Defines a slice of a Smail distribution.\n",
    "    \n",
    "    The overall distribution shape is configured by (a,b,z0) and\n",
    "    its overall normalization is configured by gals_per_arcmin2.\n",
    "    The particular slice to use is specified by (zlo,zhi).\n",
    "    Only (zlo,zhi) are used in gradient calculations.\n",
    "    zmax is used to set the upper limit for numerical c_ell integrations\n",
    "    and should be set equal to the largest slide upper limit.\n",
    "    \"\"\"\n",
    "    def __init__(self, zlo, zhi, a, b, z0, gals_per_arcmin2, zmax):\n",
    "        ##assert zlo < zhi and zlo >= 0 and zhi <= zmax\n",
    "        # Calculate the integral of z ** a * exp(-((z / z0) ** b))\n",
    "        r = (a + 1) / b\n",
    "        G = jnp.exp(gammaln(r))\n",
    "        integral = z0 ** (a + 1) / b * G\n",
    "        # Calculate the fraction of galaxies in [zlo,zhi] relative to [0,infty].\n",
    "        slice_frac = gammaincc(r, (zlo / z0) ** b) - gammaincc(r, (zhi / z0) ** b)\n",
    "        # Initialize our base class. Variables to use for autograd must be\n",
    "        # passed via *args and all others via **kwargs.\n",
    "        super(slice_nz, self).__init__(\n",
    "            zlo, zhi, # autograd variables\n",
    "            a=a, b=b, z0=z0, # other config we need\n",
    "            gals_per_arcmin2=gals_per_arcmin2 * slice_frac, zmax=zmax # base-class config\n",
    "        )\n",
    "        # Do not perform numerical normalization.\n",
    "        self._norm_factor = gals_per_arcmin2 / integral\n",
    "        self._norm = slice_frac * integral\n",
    "    \n",
    "    def pz_fn(self, z):\n",
    "        \"\"\"Evaluate the galaxy density dn/dz in this slice.\n",
    "        \"\"\"\n",
    "        zlo, zhi = self.params\n",
    "        a, b, z0 = self.config['a'], self.config['b'], self.config['z0']\n",
    "        locut = (1 + jnp.sign(z - zlo)) / 2\n",
    "        hicut = (1 - jnp.sign(z - zhi)) / 2\n",
    "        return z ** a * jnp.exp(-((z / z0) ** b)) * locut * hicut * self._norm_factor\n",
    "    \n",
    "    def __call__(self, z):\n",
    "        zlo, zhi = self.params\n",
    "        a, b, z0 = self.config['a'], self.config['b'], self.config['z0']\n",
    "        locut = (1 + jnp.sign(z - zlo)) / 2\n",
    "        hicut = (1 - jnp.sign(z - zhi)) / 2\n",
    "        return z ** a * jnp.exp(-((z / z0) ** b)) * locut * hicut / self._norm"
   ]
  },
  {
   "cell_type": "markdown",
   "metadata": {},
   "source": [
    "Generate probes using redshift slices. When using both `g` and `w`, the same slices are used for both."
   ]
  },
  {
   "cell_type": "code",
   "execution_count": 210,
   "metadata": {},
   "outputs": [],
   "source": [
    "def get_slice_probes(zedges, what='gg', sigma_e=0.26, gals_per_arcmin2=40, a=1, b=2, z0=1, zmax=2.5):\n",
    "    \n",
    "    # Add the fixed outer edges.\n",
    "    zedges = jnp.concatenate((jnp.array([0.]), jnp.asarray(zedges), jnp.array([zmax])))\n",
    "    nzbins = len(zedges) - 1\n",
    "    \n",
    "    # Build the redshift bins.\n",
    "    zbins = []\n",
    "    for i in range(nzbins):\n",
    "        zbin = slice_nz(\n",
    "            zedges[i], zedges[i + 1],\n",
    "            a=a, b=b, z0=z0,\n",
    "            gals_per_arcmin2=gals_per_arcmin2, zmax=zmax)\n",
    "        zbins.append(zbin)\n",
    "        \n",
    "    probes = []\n",
    "    # start with number counts\n",
    "    if (what == 'gg' or what == '3x2'):\n",
    "        # Define a bias parameterization\n",
    "        bias = jc.bias.inverse_growth_linear_bias(1.)\n",
    "        probes.append(jc.probes.NumberCounts(zbins, bias))\n",
    "\n",
    "    if (what == 'ww' or what == '3x2'):\n",
    "        probes.append(jc.probes.WeakLensing(zbins, sigma_e=sigma_e))\n",
    "\n",
    "    return probes"
   ]
  },
  {
   "cell_type": "code",
   "execution_count": 211,
   "metadata": {},
   "outputs": [],
   "source": [
    "P1 = get_slice_probes([0.25, 0.5, 0.75, 1.0, 1.25, 1.5, 2.0], '3x2')"
   ]
  },
  {
   "cell_type": "code",
   "execution_count": 212,
   "metadata": {},
   "outputs": [],
   "source": [
    "P2 = get_slice_probes([0.5, 1.0, 1.5], '3x2')"
   ]
  },
  {
   "cell_type": "code",
   "execution_count": 213,
   "metadata": {},
   "outputs": [
    {
     "name": "stderr",
     "output_type": "stream",
     "text": [
      "/opt/anaconda3/envs/ML/lib/python3.7/site-packages/jax/lax/lax.py:5905: UserWarning: Explicitly requested dtype <class 'jax.numpy.lax_numpy.int64'> requested in astype is not available, and will be truncated to dtype int32. To enable more dtypes, set the jax_enable_x64 configuration option or the JAX_ENABLE_X64 shell environment variable. See https://github.com/google/jax#current-gotchas for more.\n",
      "  warnings.warn(msg.format(dtype, fun_name , truncated_dtype))\n"
     ]
    },
    {
     "name": "stdout",
     "output_type": "stream",
     "text": [
      "CPU times: user 9.23 s, sys: 881 ms, total: 10.1 s\n",
      "Wall time: 11.5 s\n"
     ]
    }
   ],
   "source": [
    "%time cl1 = jc.angular_cl.angular_cl(cosmo, ell, P1)"
   ]
  },
  {
   "cell_type": "code",
   "execution_count": 214,
   "metadata": {},
   "outputs": [
    {
     "name": "stdout",
     "output_type": "stream",
     "text": [
      "CPU times: user 8.18 s, sys: 341 ms, total: 8.52 s\n",
      "Wall time: 8.58 s\n"
     ]
    }
   ],
   "source": [
    "%time cl2 = jc.angular_cl.angular_cl(cosmo, ell, P2)"
   ]
  },
  {
   "cell_type": "code",
   "execution_count": 215,
   "metadata": {},
   "outputs": [],
   "source": [
    "noise1 = jc.angular_cl.noise_cl(ell, P1)"
   ]
  },
  {
   "cell_type": "code",
   "execution_count": 216,
   "metadata": {},
   "outputs": [],
   "source": [
    "noise2 = jc.angular_cl.noise_cl(ell, P2)"
   ]
  },
  {
   "cell_type": "code",
   "execution_count": 217,
   "metadata": {},
   "outputs": [
    {
     "data": {
      "text/plain": [
       "((136, 100), (36, 100), (136, 100), (36, 100))"
      ]
     },
     "execution_count": 217,
     "metadata": {},
     "output_type": "execute_result"
    }
   ],
   "source": [
    "cl1.shape, cl2.shape, noise1.shape, noise2.shape"
   ]
  },
  {
   "cell_type": "code",
   "execution_count": 218,
   "metadata": {},
   "outputs": [],
   "source": [
    "ngals, cl_in, cl_noise_in = init_reweighting(P1, cl1, noise1)"
   ]
  },
  {
   "cell_type": "code",
   "execution_count": 219,
   "metadata": {},
   "outputs": [],
   "source": [
    "weights = [\n",
    "    [[1,1,0,0,0,0,0,0], [0,0,1,1,0,0,0,0], [0,0,0,0,1,1,0,0], [0,0,0,0,0,0,1,1]],\n",
    "    [[1,1,0,0,0,0,0,0], [0,0,1,1,0,0,0,0], [0,0,0,0,1,1,0,0], [0,0,0,0,0,0,1,1]]\n",
    "]"
   ]
  },
  {
   "cell_type": "code",
   "execution_count": 220,
   "metadata": {},
   "outputs": [],
   "source": [
    "cl_out, cl_noise_out = do_reweight_angular_cl(weights, ngals, cl_in, cl_noise_in)"
   ]
  },
  {
   "cell_type": "code",
   "execution_count": 221,
   "metadata": {},
   "outputs": [],
   "source": [
    "#cl12 = reweighted_angular_cl(cl1, P1, weights, False)"
   ]
  },
  {
   "cell_type": "code",
   "execution_count": 222,
   "metadata": {},
   "outputs": [],
   "source": [
    "#noise12 = reweighted_angular_cl(noise1, P1, weights, True)"
   ]
  },
  {
   "cell_type": "code",
   "execution_count": 223,
   "metadata": {},
   "outputs": [
    {
     "data": {
      "image/png": "[encoded data removed]",
      "text/plain": [
       "<Figure size 432x288 with 1 Axes>"
      ]
     },
     "metadata": {
      "needs_background": "light"
     },
     "output_type": "display_data"
    }
   ],
   "source": [
    "plt.semilogy(noise1.reshape(-1), '.', ms=1);"
   ]
  },
  {
   "cell_type": "code",
   "execution_count": 224,
   "metadata": {},
   "outputs": [
    {
     "data": {
      "image/png": "[encoded data removed]",
      "text/plain": [
       "<Figure size 432x288 with 1 Axes>"
      ]
     },
     "metadata": {
      "needs_background": "light"
     },
     "output_type": "display_data"
    }
   ],
   "source": [
    "plt.semilogy(noise2.reshape(-1), '.', ms=1)\n",
    "#plt.semilogy(noise12.reshape(-1), 'r-', lw=3, alpha=0.2);\n",
    "plt.semilogy(cl_noise_out.reshape(-1), 'g-', lw=3, alpha=0.2);"
   ]
  },
  {
   "cell_type": "code",
   "execution_count": 225,
   "metadata": {},
   "outputs": [
    {
     "data": {
      "image/png": "[encoded data removed]",
      "text/plain": [
       "<Figure size 432x288 with 1 Axes>"
      ]
     },
     "metadata": {
      "needs_background": "light"
     },
     "output_type": "display_data"
    }
   ],
   "source": [
    "plt.semilogy(cl1.reshape(-1), '.', ms=1);"
   ]
  },
  {
   "cell_type": "code",
   "execution_count": 226,
   "metadata": {},
   "outputs": [
    {
     "data": {
      "image/png": "[encoded data removed]",
      "text/plain": [
       "<Figure size 432x288 with 1 Axes>"
      ]
     },
     "metadata": {
      "needs_background": "light"
     },
     "output_type": "display_data"
    }
   ],
   "source": [
    "plt.semilogy(cl2.reshape(-1), '.', ms=1)\n",
    "#plt.semilogy(cl12.reshape(-1), 'r-', lw=3, alpha=0.2);\n",
    "plt.semilogy(cl_out.reshape(-1), 'g-', lw=3, alpha=0.2);"
   ]
  },
  {
   "cell_type": "code",
   "execution_count": null,
   "metadata": {},
   "outputs": [],
   "source": []
  }
 ],
 "metadata": {
  "kernelspec": {
   "display_name": "Python 3",
   "language": "python",
   "name": "python3"
  },
  "language_info": {
   "codemirror_mode": {
    "name": "ipython",
    "version": 3
   },
   "file_extension": ".py",
   "mimetype": "text/x-python",
   "name": "python",
   "nbconvert_exporter": "python",
   "pygments_lexer": "ipython3",
   "version": "3.7.3"
  }
 },
 "nbformat": 4,
 "nbformat_minor": 2
}
