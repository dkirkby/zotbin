{
 "cells": [
  {
   "cell_type": "markdown",
   "metadata": {},
   "source": [
    "# Neural Network Binning"
   ]
  },
  {
   "cell_type": "code",
   "execution_count": 1,
   "metadata": {},
   "outputs": [
    {
     "name": "stdout",
     "output_type": "stream",
     "text": [
      "Populating the interactive namespace from numpy and matplotlib\n"
     ]
    }
   ],
   "source": [
    "%pylab inline"
   ]
  },
  {
   "cell_type": "code",
   "execution_count": 2,
   "metadata": {},
   "outputs": [
    {
     "name": "stdout",
     "output_type": "stream",
     "text": [
      "Found classifier Random\n",
      "Found classifier ZotBin\n",
      "Found classifier RandomForest\n",
      "Found classifier IBandOnly\n"
     ]
    }
   ],
   "source": [
    "from tomo_challenge import load_data, load_redshift\n",
    "from tomo_challenge.jax_metrics import ell_binning"
   ]
  },
  {
   "cell_type": "code",
   "execution_count": 12,
   "metadata": {},
   "outputs": [],
   "source": [
    "import jax.random\n",
    "import jax.numpy as jnp"
   ]
  },
  {
   "cell_type": "code",
   "execution_count": 13,
   "metadata": {},
   "outputs": [],
   "source": [
    "from flax import nn, optim, serialization"
   ]
  },
  {
   "cell_type": "markdown",
   "metadata": {},
   "source": [
    "Initialize fast metric calculations:"
   ]
  },
  {
   "cell_type": "code",
   "execution_count": 3,
   "metadata": {},
   "outputs": [],
   "source": [
    "from zotbin.binned import *"
   ]
  },
  {
   "cell_type": "code",
   "execution_count": 4,
   "metadata": {},
   "outputs": [],
   "source": [
    "init_data = load_binned('binned_40.npz')"
   ]
  },
  {
   "cell_type": "markdown",
   "metadata": {},
   "source": [
    "Load the challenge data:"
   ]
  },
  {
   "cell_type": "code",
   "execution_count": 5,
   "metadata": {},
   "outputs": [],
   "source": [
    "bands='riz'\n",
    "include_colors=False\n",
    "include_errors=False"
   ]
  },
  {
   "cell_type": "code",
   "execution_count": 6,
   "metadata": {},
   "outputs": [
    {
     "name": "stdout",
     "output_type": "stream",
     "text": [
      "Loaded 5410171 training rows.\n"
     ]
    },
    {
     "name": "stderr",
     "output_type": "stream",
     "text": [
      "/home/dkirkby/DESC/tomo/tomo_challenge/data.py:89: UserWarning: Setting inf (undetected) bands to mag=30\n",
      "  warnings.warn(\"Setting inf (undetected) bands to mag=30\")\n"
     ]
    }
   ],
   "source": [
    "train_file='/media/data2/tomo_challenge_data/ugrizy_buzzard/training.hdf5'\n",
    "train_data = load_data(train_file, bands, \n",
    "                       errors=include_errors,\n",
    "                       colors=include_colors, array=True)\n",
    "train_z = load_redshift(train_file)\n",
    "print(f'Loaded {len(train_data)} training rows.')"
   ]
  },
  {
   "cell_type": "markdown",
   "metadata": {},
   "source": [
    "Preprocess the training data:"
   ]
  },
  {
   "cell_type": "code",
   "execution_count": 7,
   "metadata": {},
   "outputs": [],
   "source": [
    "colors = np.diff(train_data, axis=1)"
   ]
  },
  {
   "cell_type": "code",
   "execution_count": 8,
   "metadata": {},
   "outputs": [],
   "source": [
    "iband = bands.index('i')\n",
    "data = np.concatenate((colors, train_data[:, iband:iband+1]), axis=1)"
   ]
  },
  {
   "cell_type": "code",
   "execution_count": 9,
   "metadata": {},
   "outputs": [],
   "source": [
    "from sklearn.preprocessing import RobustScaler"
   ]
  },
  {
   "cell_type": "code",
   "execution_count": 10,
   "metadata": {},
   "outputs": [],
   "source": [
    "preproc = RobustScaler()\n",
    "features = preproc.fit_transform(train_data)"
   ]
  },
  {
   "cell_type": "markdown",
   "metadata": {},
   "source": [
    "Load classification labels:"
   ]
  },
  {
   "cell_type": "code",
   "execution_count": 11,
   "metadata": {},
   "outputs": [],
   "source": [
    "label2 = np.load('buzzard_labels2.npy')\n",
    "label4 = np.load('buzzard_labels4.npy')\n",
    "label8 = np.load('buzzard_labels8.npy')"
   ]
  },
  {
   "cell_type": "code",
   "execution_count": 64,
   "metadata": {},
   "outputs": [
    {
     "data": {
      "image/png": "[encoded data removed]",
      "text/plain": [
       "<Figure size 432x288 with 1 Axes>"
      ]
     },
     "metadata": {
      "needs_background": "light"
     },
     "output_type": "display_data"
    }
   ],
   "source": [
    "for i in range(8):\n",
    "    plt.hist(train_z[label8 == i], bins=np.linspace(0, 3, 100), alpha=0.3)"
   ]
  },
  {
   "cell_type": "markdown",
   "metadata": {},
   "source": [
    "Build a dense classifier network:"
   ]
  },
  {
   "cell_type": "code",
   "execution_count": 32,
   "metadata": {},
   "outputs": [],
   "source": [
    "class Classifier(nn.Module):\n",
    "    def apply(self, x):\n",
    "        x = nn.Dense(x, features=100, name='L1')\n",
    "        x = nn.relu(x)\n",
    "        x = nn.Dense(x, features=100, name='L2')\n",
    "        x = nn.relu(x)\n",
    "        x = nn.Dense(x, features=8, name='L3')\n",
    "        x = nn.log_softmax(x)\n",
    "        return x"
   ]
  },
  {
   "cell_type": "code",
   "execution_count": 42,
   "metadata": {},
   "outputs": [],
   "source": [
    "@jax.vmap\n",
    "def cross_entropy_loss(logits, label):\n",
    "    return -logits[label]"
   ]
  },
  {
   "cell_type": "code",
   "execution_count": 58,
   "metadata": {},
   "outputs": [],
   "source": [
    "@jax.jit\n",
    "def train_step(optimizer, batch):\n",
    "    def loss_fn(model):\n",
    "        logits = model(batch['features'])\n",
    "        loss = jnp.mean(cross_entropy_loss(logits, batch['labels']))\n",
    "        return loss\n",
    "    grad = jax.grad(loss_fn)(optimizer.target)\n",
    "    optimizer = optimizer.apply_gradient(grad)\n",
    "    return optimizer"
   ]
  },
  {
   "cell_type": "code",
   "execution_count": 65,
   "metadata": {},
   "outputs": [],
   "source": [
    "@jax.jit\n",
    "def eval_step(model, eval_ds):\n",
    "    logits = model(eval_ds['features'])\n",
    "    accuracy = jnp.mean(jnp.argmax(logits, axis=-1) == eval_ds['labels'])\n",
    "    loss = jnp.mean(cross_entropy_loss(logits, eval_ds['labels']))\n",
    "    return {'loss': loss,  'accuracy': accuracy}"
   ]
  },
  {
   "cell_type": "code",
   "execution_count": 71,
   "metadata": {},
   "outputs": [
    {
     "name": "stdout",
     "output_type": "stream",
     "text": [
      "{'L1': {'bias': (100,), 'kernel': (3, 100)}, 'L2': {'bias': (100,), 'kernel': (100, 100)}, 'L3': {'bias': (8,), 'kernel': (100, 8)}}\n",
      "epoch 1/100: train loss=1.549593 accuracy=0.381428\n",
      "epoch 2/100: train loss=1.410634 accuracy=0.463285\n",
      "epoch 3/100: train loss=1.339616 accuracy=0.466406\n",
      "epoch 4/100: train loss=1.301584 accuracy=0.475462\n",
      "epoch 5/100: train loss=1.279500 accuracy=0.479665\n",
      "epoch 6/100: train loss=1.280414 accuracy=0.469842\n",
      "epoch 7/100: train loss=1.274264 accuracy=0.475109\n",
      "epoch 8/100: train loss=1.246219 accuracy=0.481805\n",
      "epoch 9/100: train loss=1.231485 accuracy=0.489400\n",
      "epoch 10/100: train loss=1.229690 accuracy=0.488708\n",
      "epoch 11/100: train loss=1.222467 accuracy=0.494511\n",
      "epoch 12/100: train loss=1.212283 accuracy=0.499441\n",
      "epoch 13/100: train loss=1.207327 accuracy=0.501725\n",
      "epoch 14/100: train loss=1.214399 accuracy=0.491900\n",
      "epoch 15/100: train loss=1.190291 accuracy=0.514734\n",
      "epoch 16/100: train loss=1.184384 accuracy=0.512024\n",
      "epoch 17/100: train loss=1.184523 accuracy=0.516476\n",
      "epoch 18/100: train loss=1.174873 accuracy=0.518772\n",
      "epoch 19/100: train loss=1.187987 accuracy=0.510886\n",
      "epoch 20/100: train loss=1.159245 accuracy=0.524206\n",
      "epoch 21/100: train loss=1.149853 accuracy=0.534554\n",
      "epoch 22/100: train loss=1.141510 accuracy=0.538966\n",
      "epoch 23/100: train loss=1.139448 accuracy=0.530606\n",
      "epoch 24/100: train loss=1.128952 accuracy=0.545597\n",
      "epoch 25/100: train loss=1.123110 accuracy=0.550583\n",
      "epoch 26/100: train loss=1.136176 accuracy=0.533236\n",
      "epoch 27/100: train loss=1.115480 accuracy=0.553310\n",
      "epoch 28/100: train loss=1.121037 accuracy=0.550099\n",
      "epoch 29/100: train loss=1.105724 accuracy=0.554321\n",
      "epoch 30/100: train loss=1.097084 accuracy=0.560326\n",
      "epoch 31/100: train loss=1.106882 accuracy=0.544057\n",
      "epoch 32/100: train loss=1.098094 accuracy=0.563017\n",
      "epoch 33/100: train loss=1.092574 accuracy=0.561275\n",
      "epoch 34/100: train loss=1.083743 accuracy=0.561175\n",
      "epoch 35/100: train loss=1.079934 accuracy=0.570059\n",
      "epoch 36/100: train loss=1.072775 accuracy=0.572536\n",
      "epoch 37/100: train loss=1.069658 accuracy=0.575205\n",
      "epoch 38/100: train loss=1.079702 accuracy=0.564128\n",
      "epoch 39/100: train loss=1.063540 accuracy=0.574011\n",
      "epoch 40/100: train loss=1.064687 accuracy=0.571221\n",
      "epoch 41/100: train loss=1.067374 accuracy=0.557335\n",
      "epoch 42/100: train loss=1.054654 accuracy=0.574067\n",
      "epoch 43/100: train loss=1.052411 accuracy=0.579252\n",
      "epoch 44/100: train loss=1.050763 accuracy=0.575362\n",
      "epoch 45/100: train loss=1.046976 accuracy=0.576925\n",
      "epoch 46/100: train loss=1.078957 accuracy=0.531430\n",
      "epoch 47/100: train loss=1.048617 accuracy=0.573484\n",
      "epoch 48/100: train loss=1.077685 accuracy=0.544805\n",
      "epoch 49/100: train loss=1.038510 accuracy=0.582211\n",
      "epoch 50/100: train loss=1.048394 accuracy=0.564864\n",
      "epoch 51/100: train loss=1.037143 accuracy=0.579281\n",
      "epoch 52/100: train loss=1.041452 accuracy=0.571278\n",
      "epoch 53/100: train loss=1.038629 accuracy=0.569874\n",
      "epoch 54/100: train loss=1.034149 accuracy=0.575269\n",
      "epoch 55/100: train loss=1.033359 accuracy=0.576211\n",
      "epoch 56/100: train loss=1.027123 accuracy=0.582302\n",
      "epoch 57/100: train loss=1.025657 accuracy=0.583969\n",
      "epoch 58/100: train loss=1.033779 accuracy=0.572509\n",
      "epoch 59/100: train loss=1.026169 accuracy=0.577068\n",
      "epoch 60/100: train loss=1.028821 accuracy=0.572441\n",
      "epoch 61/100: train loss=1.021134 accuracy=0.584496\n",
      "epoch 62/100: train loss=1.032546 accuracy=0.581965\n",
      "epoch 63/100: train loss=1.031148 accuracy=0.572799\n",
      "epoch 64/100: train loss=1.018808 accuracy=0.585183\n",
      "epoch 65/100: train loss=1.021231 accuracy=0.585461\n",
      "epoch 66/100: train loss=1.021694 accuracy=0.577675\n",
      "epoch 67/100: train loss=1.020069 accuracy=0.580469\n",
      "epoch 68/100: train loss=1.016405 accuracy=0.587281\n",
      "epoch 69/100: train loss=1.015959 accuracy=0.583623\n",
      "epoch 70/100: train loss=1.015362 accuracy=0.580591\n",
      "epoch 71/100: train loss=1.017017 accuracy=0.580248\n",
      "epoch 72/100: train loss=1.013063 accuracy=0.587836\n",
      "epoch 73/100: train loss=1.011292 accuracy=0.584743\n",
      "epoch 74/100: train loss=1.013893 accuracy=0.586811\n",
      "epoch 75/100: train loss=1.018653 accuracy=0.584736\n",
      "epoch 76/100: train loss=1.011438 accuracy=0.586584\n",
      "epoch 77/100: train loss=1.008028 accuracy=0.585996\n",
      "epoch 78/100: train loss=1.008804 accuracy=0.588428\n",
      "epoch 79/100: train loss=1.008035 accuracy=0.588062\n",
      "epoch 80/100: train loss=1.019251 accuracy=0.583500\n",
      "epoch 81/100: train loss=1.008522 accuracy=0.588245\n",
      "epoch 82/100: train loss=1.006580 accuracy=0.585919\n",
      "epoch 83/100: train loss=1.009802 accuracy=0.584863\n",
      "epoch 84/100: train loss=1.005115 accuracy=0.589928\n",
      "epoch 85/100: train loss=1.005331 accuracy=0.589448\n",
      "epoch 86/100: train loss=1.004701 accuracy=0.589470\n",
      "epoch 87/100: train loss=1.004329 accuracy=0.589031\n",
      "epoch 88/100: train loss=1.002931 accuracy=0.589307\n",
      "epoch 89/100: train loss=1.003931 accuracy=0.590028\n",
      "epoch 90/100: train loss=1.006288 accuracy=0.586442\n",
      "epoch 91/100: train loss=1.006592 accuracy=0.589398\n",
      "epoch 92/100: train loss=1.001463 accuracy=0.589774\n",
      "epoch 93/100: train loss=1.004308 accuracy=0.588416\n",
      "epoch 94/100: train loss=1.005757 accuracy=0.586883\n",
      "epoch 95/100: train loss=0.999448 accuracy=0.591624\n",
      "epoch 96/100: train loss=1.001314 accuracy=0.588085\n",
      "epoch 97/100: train loss=1.004636 accuracy=0.586345\n",
      "epoch 98/100: train loss=1.000279 accuracy=0.589456\n",
      "epoch 99/100: train loss=0.999808 accuracy=0.589819\n",
      "epoch 100/100: train loss=1.002294 accuracy=0.585584\n"
     ]
    }
   ],
   "source": [
    "def train(data, iz, batchsize=10000, nepoch=100, seed=123):\n",
    "    \n",
    "    features = jnp.asarray(data)\n",
    "    labels = jnp.asarray(iz, jnp.int32)\n",
    "    ndata = len(features)\n",
    "    nbatch = ndata // batchsize\n",
    "    gen = np.random.RandomState(seed)\n",
    "    \n",
    "    _, initial_params = Classifier.init(jax.random.PRNGKey(0), features[:batchsize])\n",
    "    model = nn.Model(Classifier, initial_params)\n",
    "    print(jax.tree_map(jnp.shape, model.params))\n",
    "    optimizer = optim.Momentum(learning_rate=0.001, beta=0.9).create(model)\n",
    "    \n",
    "    for epoch in range(nepoch):\n",
    "        batch = gen.choice(ndata, nbatch * batchsize, replace=False).reshape(nbatch, batchsize)\n",
    "        for i in range(nbatch):\n",
    "            optimizer = train_step(optimizer, {'features': features[batch[i]], 'labels': labels[batch[i]]})\n",
    "        train_eval = eval_step(optimizer.target, {'features': features, 'labels': labels})\n",
    "        print(f'epoch {epoch+1}/{nepoch}: train loss={train_eval[\"loss\"]:.6f} accuracy={train_eval[\"accuracy\"]:.6f}')\n",
    "\n",
    "train(data, label8)"
   ]
  },
  {
   "cell_type": "markdown",
   "metadata": {},
   "source": [
    "## Sandbox"
   ]
  },
  {
   "cell_type": "code",
   "execution_count": 37,
   "metadata": {},
   "outputs": [],
   "source": [
    "ndata = 10000\n",
    "features = jnp.array(features[:ndata])\n",
    "labels = jnp.array(train_z[:ndata])"
   ]
  },
  {
   "cell_type": "markdown",
   "metadata": {},
   "source": [
    "Define a network:"
   ]
  },
  {
   "cell_type": "code",
   "execution_count": 34,
   "metadata": {},
   "outputs": [],
   "source": [
    "nbins = 4"
   ]
  },
  {
   "cell_type": "code",
   "execution_count": 24,
   "metadata": {},
   "outputs": [],
   "source": [
    "class NN(nn.Module):\n",
    "    def apply(self, x, nbins):\n",
    "        x = nn.Dense(x, 100, name='L1')\n",
    "        x = nn.relu(x)\n",
    "        x = nn.Dense(x, 100, name='L2')\n",
    "        x = nn.relu(x)\n",
    "        x = nn.Dense(x, nbins, name='L3')\n",
    "        return nn.softmax(x)"
   ]
  },
  {
   "cell_type": "code",
   "execution_count": 25,
   "metadata": {},
   "outputs": [],
   "source": [
    "module = NN.partial(nbins=4)"
   ]
  },
  {
   "cell_type": "code",
   "execution_count": 26,
   "metadata": {},
   "outputs": [],
   "source": [
    "_, nn_init = module.init(jax.random.PRNGKey(0), features)"
   ]
  },
  {
   "cell_type": "code",
   "execution_count": 27,
   "metadata": {},
   "outputs": [
    {
     "data": {
      "text/plain": [
       "{'L1': {'bias': (100,), 'kernel': (4, 100)},\n",
       " 'L2': {'bias': (100,), 'kernel': (100, 100)},\n",
       " 'L3': {'bias': (4,), 'kernel': (100, 4)}}"
      ]
     },
     "execution_count": 27,
     "metadata": {},
     "output_type": "execute_result"
    }
   ],
   "source": [
    "jax.tree_map(jnp.shape, nn_init)"
   ]
  },
  {
   "cell_type": "code",
   "execution_count": 28,
   "metadata": {},
   "outputs": [],
   "source": [
    "model = nn.Model(module, nn_init)"
   ]
  },
  {
   "cell_type": "code",
   "execution_count": 29,
   "metadata": {},
   "outputs": [
    {
     "data": {
      "text/plain": [
       "{'L1': {'bias': (100,), 'kernel': (4, 100)},\n",
       " 'L2': {'bias': (100,), 'kernel': (100, 100)},\n",
       " 'L3': {'bias': (4,), 'kernel': (100, 4)}}"
      ]
     },
     "execution_count": 29,
     "metadata": {},
     "output_type": "execute_result"
    }
   ],
   "source": [
    "jax.tree_map(jnp.shape, model.params)"
   ]
  },
  {
   "cell_type": "code",
   "execution_count": 30,
   "metadata": {},
   "outputs": [
    {
     "data": {
      "text/plain": [
       "DeviceArray([0.20889738, 0.25362805, 0.26156127, 0.27591333], dtype=float32)"
      ]
     },
     "execution_count": 30,
     "metadata": {},
     "output_type": "execute_result"
    }
   ],
   "source": [
    "model(features[0])"
   ]
  },
  {
   "cell_type": "code",
   "execution_count": 61,
   "metadata": {},
   "outputs": [],
   "source": [
    "optimizer = optim.Adam(learning_rate=0.001).create(model)"
   ]
  },
  {
   "cell_type": "code",
   "execution_count": 68,
   "metadata": {},
   "outputs": [],
   "source": [
    "def train_step(optimizer, batch):\n",
    "    \n",
    "    def loss_fn(model):\n",
    "        out = model(batch['features'])\n",
    "        idx = jnp.argmax(out, axis=-1)\n",
    "        print(idx)\n",
    "        scores = get_binned_scores(idx, batch['z'], *init_data)\n",
    "        print(scores)\n",
    "        return scores['FOM_DETF_3x2']\n",
    "    \n",
    "    loss, g = jax.value_and_grad(loss_fn)(optimizer.target)\n",
    "    optimizer = optimizer.apply_gradient(g)\n",
    "    return optimizer, loss"
   ]
  },
  {
   "cell_type": "code",
   "execution_count": 69,
   "metadata": {},
   "outputs": [],
   "source": [
    "nbatch = 10\n",
    "gen = np.random.RandomState(123)"
   ]
  },
  {
   "cell_type": "code",
   "execution_count": 70,
   "metadata": {},
   "outputs": [],
   "source": [
    "def get_batch():\n",
    "    idx = gen.choice(ndata, nbatch)\n",
    "    return {'features': features[idx], 'z': labels[idx]}"
   ]
  },
  {
   "cell_type": "code",
   "execution_count": 71,
   "metadata": {},
   "outputs": [
    {
     "name": "stdout",
     "output_type": "stream",
     "text": [
      "[3 3 3 3 3 3 2 0 3 1]\n",
      "{'SNR_3x2': DeviceArray(1319.0688, dtype=float32), 'FOM_3x2': DeviceArray(2835.5964, dtype=float32), 'FOM_DETF_3x2': DeviceArray(29.425533, dtype=float32)}\n",
      "29.425533\n",
      "[0 3 3 3 3 0 3 3 3 3]\n",
      "{'SNR_3x2': DeviceArray(nan, dtype=float32), 'FOM_3x2': DeviceArray(nan, dtype=float32), 'FOM_DETF_3x2': DeviceArray(nan, dtype=float32)}\n",
      "nan\n",
      "[3 2 3 3 3 3 3 3 3 3]\n",
      "{'SNR_3x2': DeviceArray(nan, dtype=float32), 'FOM_3x2': DeviceArray(nan, dtype=float32), 'FOM_DETF_3x2': DeviceArray(nan, dtype=float32)}\n",
      "nan\n",
      "[3 2 3 3 3 3 3 3 3 2]\n",
      "{'SNR_3x2': DeviceArray(nan, dtype=float32), 'FOM_3x2': DeviceArray(nan, dtype=float32), 'FOM_DETF_3x2': DeviceArray(nan, dtype=float32)}\n",
      "nan\n",
      "[3 2 2 2 2 3 3 3 3 3]\n",
      "{'SNR_3x2': DeviceArray(nan, dtype=float32), 'FOM_3x2': DeviceArray(nan, dtype=float32), 'FOM_DETF_3x2': DeviceArray(nan, dtype=float32)}\n",
      "nan\n",
      "[3 3 3 3 2 2 3 3 3 2]\n",
      "{'SNR_3x2': DeviceArray(nan, dtype=float32), 'FOM_3x2': DeviceArray(nan, dtype=float32), 'FOM_DETF_3x2': DeviceArray(nan, dtype=float32)}\n",
      "nan\n",
      "[3 3 3 2 3 3 3 3 3 3]\n",
      "{'SNR_3x2': DeviceArray(nan, dtype=float32), 'FOM_3x2': DeviceArray(nan, dtype=float32), 'FOM_DETF_3x2': DeviceArray(nan, dtype=float32)}\n",
      "nan\n",
      "[2 2 3 3 3 3 3 3 3 3]\n",
      "{'SNR_3x2': DeviceArray(nan, dtype=float32), 'FOM_3x2': DeviceArray(nan, dtype=float32), 'FOM_DETF_3x2': DeviceArray(nan, dtype=float32)}\n",
      "nan\n",
      "[3 3 3 3 3 3 3 3 3 3]\n",
      "{'SNR_3x2': DeviceArray(nan, dtype=float32), 'FOM_3x2': DeviceArray(nan, dtype=float32), 'FOM_DETF_3x2': DeviceArray(nan, dtype=float32)}\n",
      "nan\n",
      "[3 3 3 3 2 2 3 3 2 3]\n",
      "{'SNR_3x2': DeviceArray(nan, dtype=float32), 'FOM_3x2': DeviceArray(nan, dtype=float32), 'FOM_DETF_3x2': DeviceArray(nan, dtype=float32)}\n",
      "nan\n"
     ]
    }
   ],
   "source": [
    "def train(opt, niter=10):\n",
    "    \n",
    "    losses = []\n",
    "    for i in range(niter):\n",
    "        opt, loss = train_step(opt, get_batch())\n",
    "        print(loss)\n",
    "        \n",
    "train(optimizer)"
   ]
  },
  {
   "cell_type": "code",
   "execution_count": null,
   "metadata": {},
   "outputs": [],
   "source": []
  }
 ],
 "metadata": {
  "kernelspec": {
   "display_name": "Python 3",
   "language": "python",
   "name": "python3"
  },
  "language_info": {
   "codemirror_mode": {
    "name": "ipython",
    "version": 3
   },
   "file_extension": ".py",
   "mimetype": "text/x-python",
   "name": "python",
   "nbconvert_exporter": "python",
   "pygments_lexer": "ipython3",
   "version": "3.7.3"
  }
 },
 "nbformat": 4,
 "nbformat_minor": 2
}
