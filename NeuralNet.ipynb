{
 "cells": [
  {
   "cell_type": "markdown",
   "metadata": {},
   "source": [
    "# Neural Network Binning"
   ]
  },
  {
   "cell_type": "code",
   "execution_count": 1,
   "metadata": {},
   "outputs": [
    {
     "name": "stdout",
     "output_type": "stream",
     "text": [
      "Populating the interactive namespace from numpy and matplotlib\n"
     ]
    }
   ],
   "source": [
    "%pylab inline"
   ]
  },
  {
   "cell_type": "code",
   "execution_count": 2,
   "metadata": {},
   "outputs": [],
   "source": [
    "import yaml\n",
    "import itertools\n",
    "from pathlib import Path"
   ]
  },
  {
   "cell_type": "code",
   "execution_count": 3,
   "metadata": {},
   "outputs": [],
   "source": [
    "import jax\n",
    "import jax.random\n",
    "import jax.numpy as jnp\n",
    "from jax.experimental import stax,optimizers"
   ]
  },
  {
   "cell_type": "markdown",
   "metadata": {},
   "source": [
    "Initialize fast metric calculations:"
   ]
  },
  {
   "cell_type": "code",
   "execution_count": 53,
   "metadata": {},
   "outputs": [],
   "source": [
    "from zotbin.binned import load_binned\n",
    "from zotbin.optimize import metrics, softmax_transform, extend_transform, plot_dndz\n",
    "from zotbin.reweight import reweighted_metrics"
   ]
  },
  {
   "cell_type": "code",
   "execution_count": 5,
   "metadata": {},
   "outputs": [],
   "source": [
    "DATA = Path('/Users/david/Data/DESC/tomo')\n",
    "assert DATA.exists()"
   ]
  },
  {
   "cell_type": "code",
   "execution_count": 6,
   "metadata": {},
   "outputs": [
    {
     "name": "stderr",
     "output_type": "stream",
     "text": [
      "/Users/david/anaconda3/envs/jax/lib/python3.8/site-packages/jax/lib/xla_bridge.py:130: UserWarning: No GPU/TPU found, falling back to CPU.\n",
      "  warnings.warn('No GPU/TPU found, falling back to CPU.')\n"
     ]
    }
   ],
   "source": [
    "init_data = load_binned(DATA / 'binned_80_4k.npz')"
   ]
  },
  {
   "cell_type": "code",
   "execution_count": 7,
   "metadata": {},
   "outputs": [
    {
     "name": "stdout",
     "output_type": "stream",
     "text": [
      "Loaded 5359494 training samples with ~uniform distribution.\n"
     ]
    }
   ],
   "source": [
    "with np.load(DATA / 'uniform_buz_riz.npz') as keys:\n",
    "    X = jnp.array(3 * (keys['uniform'] - 0.5))\n",
    "    z = jnp.array(keys['redshift'])\n",
    "print(f'Loaded {len(X)} training samples with ~uniform distribution.')"
   ]
  },
  {
   "cell_type": "code",
   "execution_count": 8,
   "metadata": {},
   "outputs": [
    {
     "data": {
      "text/plain": [
       "(DeviceArray(-0.00120351, dtype=float32),\n",
       " DeviceArray(0.8636326, dtype=float32))"
      ]
     },
     "execution_count": 8,
     "metadata": {},
     "output_type": "execute_result"
    }
   ],
   "source": [
    "X.mean(), X.std()"
   ]
  },
  {
   "cell_type": "markdown",
   "metadata": {},
   "source": [
    "Learn a dense classifier network using stax:"
   ]
  },
  {
   "cell_type": "code",
   "execution_count": 50,
   "metadata": {},
   "outputs": [],
   "source": [
    "def learn_nnet(nbin=2, X=X, z=z, trainfrac=0.5, nhidden=64, nlayer=2, ntrial=1, nepoch=100, batchsize=50000, interval=1,\n",
    "               optimizer=optimizers.adam(0.001), init_data=init_data, metric='FOM_DETF_3x2', gals_per_arcmin2=20., fsky=0.25, seed=123):\n",
    "    \"\"\"\n",
    "    \"\"\"\n",
    "    # Calculate the normalized dndz for each bin.\n",
    "    zedges = jnp.array(init_data[0])\n",
    "    def hist1bin(z, w):\n",
    "        return jnp.histogram(z, bins=zedges, weights=w)[0]\n",
    "    histbins = jax.vmap(hist1bin, in_axes=(None, 1), out_axes=0)\n",
    "    \n",
    "    # Build the network model.\n",
    "    layers = []\n",
    "    for i in range(nlayer):\n",
    "        layers.extend([\n",
    "            stax.Dense(nhidden),\n",
    "            stax.LeakyRelu,\n",
    "            stax.BatchNorm(axis=(0,1)),\n",
    "        ])\n",
    "    layers.extend([\n",
    "        stax.Dense(nbin),\n",
    "        stax.Softmax\n",
    "    ])\n",
    "    init_fun, apply_fun = stax.serial(*layers)\n",
    "    \n",
    "    def get_weights(params, Xb, zb):\n",
    "        # Get normalized weights from the network model.\n",
    "        wgts = apply_fun(params, Xb)\n",
    "        # Convert to a normalized dndz for each bin.\n",
    "        w = histbins(zb, wgts)\n",
    "        return w / zb.shape[0]        \n",
    "    \n",
    "    # Evaluate all 3x2 metrics.\n",
    "    def metrics(params, Xb, zb):\n",
    "        w = get_weights(params, Xb, zb)\n",
    "        # Use the same binning for number density and weak lensing.\n",
    "        weights = jnp.array([w, w])\n",
    "        return reweighted_metrics(weights, *init_data[1:], gals_per_arcmin2, fsky)\n",
    "    \n",
    "    # Evaluate the loss as -metric.\n",
    "    def loss(params, Xb, zb):\n",
    "        return -metrics(params, Xb, zb)[metric]\n",
    "    \n",
    "    opt_init, opt_update, get_params = optimizer\n",
    "    \n",
    "    # Define the update rule.\n",
    "    @jax.jit\n",
    "    def update(i, opt_state, Xb, zb):\n",
    "        params = get_params(opt_state)\n",
    "        grads = jax.grad(loss)(params, Xb, zb)\n",
    "        return opt_update(i, grads, opt_state)\n",
    "    \n",
    "    rng = jax.random.PRNGKey(seed)\n",
    "    gen = np.random.RandomState(seed)\n",
    "    \n",
    "    ndata = X.shape[0]\n",
    "    ntrain = int(np.round(ndata * trainfrac))\n",
    "    Xtrain, ztrain = X[:ntrain], z[:ntrain]\n",
    "    Xvalid, zvalid = X[ntrain:], z[ntrain:]\n",
    "    nbatch = ntrain // batchsize\n",
    "    \n",
    "    all_scores = []\n",
    "    max_score = -1\n",
    "    best_params = None\n",
    "    \n",
    "    for trial in range(ntrial):\n",
    "    \n",
    "        _, init_params = init_fun(rng, (batchsize, X.shape[1]))\n",
    "        opt_state = opt_init(init_params)\n",
    "\n",
    "        all_scores.append([])\n",
    "        itercount = itertools.count()\n",
    "        for epoch in range(nepoch):\n",
    "            perm = gen.permutation(ntrain)\n",
    "            for batch in range(nbatch):\n",
    "                idx = perm[batch * batchsize:(batch + 1) * batchsize]\n",
    "                opt_state = update(next(itercount), opt_state, Xtrain[idx], ztrain[idx])\n",
    "            # Calculate train and validation scores after this epoch.\n",
    "            params = get_params(opt_state)\n",
    "            train_score = metrics(params, Xtrain, ztrain)[metric]\n",
    "            all_scores[-1].append(train_score)\n",
    "            if train_score > max_score:\n",
    "                best_params = params\n",
    "                max_score = train_score\n",
    "            if epoch % interval == 0:\n",
    "                valid_score = metrics(params, Xvalid, zvalid)[metric]\n",
    "                print(f'Trial {trial+1}/{ntrial} epoch {epoch+1}/{nepoch} train {train_score:.3f} (max {max_score:.3f}) validation {valid_score:.3f}.')\n",
    "\n",
    "    # Calculate all metrics for the best params.\n",
    "    best_scores = metrics(best_params, Xtrain, ztrain)\n",
    "    best_scores = {metric: float(value) for metric, value in best_scores.items()}\n",
    "    \n",
    "    # Convert the best parameters to normalized dndz weights.\n",
    "    dndz_bin = get_weights(best_params, Xtrain, ztrain)\n",
    "\n",
    "    return best_scores, dndz_bin, all_scores"
   ]
  },
  {
   "cell_type": "code",
   "execution_count": 51,
   "metadata": {},
   "outputs": [
    {
     "name": "stdout",
     "output_type": "stream",
     "text": [
      "Trial 1/2 epoch 1/5 train 19.441 (max 19.441) validation 19.451.\n",
      "Trial 1/2 epoch 2/5 train 20.118 (max 20.118) validation 20.120.\n",
      "Trial 1/2 epoch 3/5 train 20.308 (max 20.308) validation 20.308.\n",
      "Trial 1/2 epoch 4/5 train 20.309 (max 20.309) validation 20.307.\n",
      "Trial 1/2 epoch 5/5 train 20.450 (max 20.450) validation 20.447.\n",
      "Trial 2/2 epoch 1/5 train 19.467 (max 20.450) validation 19.477.\n",
      "Trial 2/2 epoch 2/5 train 20.103 (max 20.450) validation 20.106.\n",
      "Trial 2/2 epoch 3/5 train 20.286 (max 20.450) validation 20.286.\n",
      "Trial 2/2 epoch 4/5 train 20.391 (max 20.450) validation 20.391.\n",
      "Trial 2/2 epoch 5/5 train 20.466 (max 20.466) validation 20.461.\n"
     ]
    }
   ],
   "source": [
    "best_scores, dndz_bin, all_scores = learn_nnet(nbin=2, ntrial=2, nepoch=5)"
   ]
  },
  {
   "cell_type": "code",
   "execution_count": 52,
   "metadata": {},
   "outputs": [
    {
     "data": {
      "text/plain": [
       "{'FOM_3x2': 884.7492065429688,\n",
       " 'FOM_DETF_3x2': 20.465818405151367,\n",
       " 'SNR_3x2': 866.3617553710938}"
      ]
     },
     "execution_count": 52,
     "metadata": {},
     "output_type": "execute_result"
    }
   ],
   "source": [
    "best_scores"
   ]
  },
  {
   "cell_type": "code",
   "execution_count": 54,
   "metadata": {},
   "outputs": [
    {
     "data": {
      "image/png": "[encoded data removed]",
      "text/plain": [
       "<Figure size 432x288 with 1 Axes>"
      ]
     },
     "metadata": {
      "needs_background": "light"
     },
     "output_type": "display_data"
    }
   ],
   "source": [
    "plot_dndz(dndz_bin, init_data[0])"
   ]
  },
  {
   "cell_type": "code",
   "execution_count": 57,
   "metadata": {},
   "outputs": [
    {
     "data": {
      "image/png": "[encoded data removed]",
      "text/plain": [
       "<Figure size 432x288 with 1 Axes>"
      ]
     },
     "metadata": {
      "needs_background": "light"
     },
     "output_type": "display_data"
    }
   ],
   "source": [
    "plt.plot(np.array(all_scores).T);"
   ]
  },
  {
   "cell_type": "code",
   "execution_count": 42,
   "metadata": {},
   "outputs": [
    {
     "name": "stdout",
     "output_type": "stream",
     "text": [
      "Epoch 1 train 51.066 validation 51.109.\n",
      "Epoch 2 train 53.981 validation 54.023.\n",
      "Epoch 3 train 54.821 validation 54.846.\n",
      "Epoch 4 train 55.714 validation 55.754.\n",
      "Epoch 5 train 56.280 validation 56.323.\n",
      "Epoch 6 train 56.507 validation 56.523.\n",
      "Epoch 7 train 56.670 validation 56.701.\n",
      "Epoch 8 train 56.413 validation 56.444.\n",
      "Epoch 9 train 56.821 validation 56.836.\n",
      "Epoch 10 train 56.902 validation 56.908.\n",
      "Epoch 11 train 56.902 validation 56.901.\n",
      "Epoch 12 train 57.018 validation 57.056.\n",
      "Epoch 13 train 57.018 validation 57.036.\n",
      "Epoch 14 train 57.179 validation 57.187.\n",
      "Epoch 15 train 57.167 validation 57.177.\n",
      "Epoch 16 train 56.976 validation 56.945.\n",
      "Epoch 17 train 57.215 validation 57.231.\n",
      "Epoch 18 train 57.261 validation 57.256.\n",
      "Epoch 19 train 57.120 validation 57.124.\n",
      "Epoch 20 train 57.202 validation 57.214.\n",
      "Epoch 21 train 57.157 validation 57.173.\n",
      "Epoch 22 train 57.073 validation 57.063.\n",
      "Epoch 23 train 57.277 validation 57.259.\n",
      "Epoch 24 train 57.177 validation 57.187.\n",
      "Epoch 25 train 57.254 validation 57.230.\n",
      "Epoch 26 train 57.232 validation 57.254.\n",
      "Epoch 27 train 57.016 validation 56.997.\n",
      "Epoch 28 train 57.343 validation 57.312.\n",
      "Epoch 29 train 57.296 validation 57.246.\n",
      "Epoch 30 train 57.396 validation 57.393.\n",
      "Epoch 31 train 57.557 validation 57.550.\n",
      "Epoch 32 train 57.585 validation 57.560.\n",
      "Epoch 33 train 57.321 validation 57.332.\n",
      "Epoch 34 train 57.612 validation 57.600.\n",
      "Epoch 35 train 57.610 validation 57.612.\n",
      "Epoch 36 train 57.619 validation 57.647.\n",
      "Epoch 37 train 57.807 validation 57.798.\n",
      "Epoch 38 train 57.802 validation 57.793.\n",
      "Epoch 39 train 57.836 validation 57.837.\n",
      "Epoch 40 train 57.974 validation 57.949.\n",
      "Epoch 41 train 57.824 validation 57.787.\n",
      "Epoch 42 train 57.631 validation 57.676.\n",
      "Epoch 43 train 58.098 validation 58.092.\n",
      "Epoch 44 train 57.987 validation 57.995.\n",
      "Epoch 45 train 58.071 validation 58.078.\n",
      "Epoch 46 train 57.981 validation 57.950.\n",
      "Epoch 47 train 58.162 validation 58.133.\n",
      "Epoch 48 train 57.902 validation 57.863.\n",
      "Epoch 49 train 57.892 validation 57.903.\n",
      "Epoch 50 train 57.985 validation 57.996.\n",
      "Epoch 51 train 58.167 validation 58.124.\n",
      "Epoch 52 train 57.962 validation 57.956.\n",
      "Epoch 53 train 58.083 validation 58.062.\n",
      "Epoch 54 train 58.186 validation 58.164.\n",
      "Epoch 55 train 58.266 validation 58.252.\n",
      "Epoch 56 train 58.216 validation 58.175.\n",
      "Epoch 57 train 58.223 validation 58.206.\n",
      "Epoch 58 train 57.970 validation 57.932.\n",
      "Epoch 59 train 58.197 validation 58.206.\n",
      "Epoch 60 train 58.115 validation 58.085.\n",
      "Epoch 61 train 58.255 validation 58.225.\n",
      "Epoch 62 train 58.142 validation 58.130.\n",
      "Epoch 63 train 58.246 validation 58.221.\n",
      "Epoch 64 train 58.323 validation 58.274.\n",
      "Epoch 65 train 58.236 validation 58.222.\n",
      "Epoch 66 train 58.095 validation 58.056.\n",
      "Epoch 67 train 58.152 validation 58.144.\n",
      "Epoch 68 train 58.234 validation 58.222.\n",
      "Epoch 69 train 58.265 validation 58.212.\n",
      "Epoch 70 train 58.255 validation 58.229.\n",
      "Epoch 71 train 58.093 validation 58.098.\n",
      "Epoch 72 train 58.252 validation 58.264.\n",
      "Epoch 73 train 58.223 validation 58.198.\n",
      "Epoch 74 train 58.268 validation 58.282.\n",
      "Epoch 75 train 58.337 validation 58.291.\n",
      "Epoch 76 train 58.280 validation 58.275.\n",
      "Epoch 77 train 58.276 validation 58.227.\n",
      "Epoch 78 train 58.274 validation 58.268.\n",
      "Epoch 79 train 58.325 validation 58.294.\n",
      "Epoch 80 train 58.404 validation 58.371.\n",
      "Epoch 81 train 58.202 validation 58.185.\n",
      "Epoch 82 train 58.337 validation 58.320.\n",
      "Epoch 83 train 58.252 validation 58.251.\n",
      "Epoch 84 train 58.333 validation 58.307.\n",
      "Epoch 85 train 58.297 validation 58.265.\n",
      "Epoch 86 train 58.241 validation 58.199.\n",
      "Epoch 87 train 58.672 validation 58.646.\n",
      "Epoch 88 train 58.417 validation 58.429.\n",
      "Epoch 89 train 58.260 validation 58.277.\n",
      "Epoch 90 train 58.583 validation 58.606.\n",
      "Epoch 91 train 58.672 validation 58.646.\n",
      "Epoch 92 train 58.542 validation 58.521.\n",
      "Epoch 93 train 58.640 validation 58.602.\n",
      "Epoch 94 train 58.628 validation 58.618.\n",
      "Epoch 95 train 58.547 validation 58.527.\n",
      "Epoch 96 train 58.683 validation 58.637.\n",
      "Epoch 97 train 58.513 validation 58.519.\n",
      "Epoch 98 train 58.690 validation 58.644.\n",
      "Epoch 99 train 58.638 validation 58.585.\n",
      "Epoch 100 train 58.585 validation 58.586.\n"
     ]
    },
    {
     "data": {
      "image/png": "[encoded data removed]",
      "text/plain": [
       "<Figure size 432x288 with 1 Axes>"
      ]
     },
     "metadata": {
      "needs_background": "light"
     },
     "output_type": "display_data"
    }
   ],
   "source": [
    "learn_nnet(nbin=4, nlayer=3)"
   ]
  },
  {
   "cell_type": "code",
   "execution_count": null,
   "metadata": {},
   "outputs": [],
   "source": []
  }
 ],
 "metadata": {
  "kernelspec": {
   "display_name": "Python 3",
   "language": "python",
   "name": "python3"
  },
  "language_info": {
   "codemirror_mode": {
    "name": "ipython",
    "version": 3
   },
   "file_extension": ".py",
   "mimetype": "text/x-python",
   "name": "python",
   "nbconvert_exporter": "python",
   "pygments_lexer": "ipython3",
   "version": "3.7.3"
  }
 },
 "nbformat": 4,
 "nbformat_minor": 4
}
