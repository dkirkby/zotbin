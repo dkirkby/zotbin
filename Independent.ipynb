{
 "cells": [
  {
   "cell_type": "markdown",
   "metadata": {},
   "source": [
    "# Independent Bins for each Probe"
   ]
  },
  {
   "cell_type": "code",
   "execution_count": 1,
   "metadata": {},
   "outputs": [
    {
     "name": "stdout",
     "output_type": "stream",
     "text": [
      "Populating the interactive namespace from numpy and matplotlib\n"
     ]
    }
   ],
   "source": [
    "%pylab inline"
   ]
  },
  {
   "cell_type": "code",
   "execution_count": 2,
   "metadata": {},
   "outputs": [],
   "source": [
    "from zotbin.optimize import *\n",
    "from zotbin.binned import load_binned\n",
    "#from zotbin.group import load_groups"
   ]
  },
  {
   "cell_type": "code",
   "execution_count": 3,
   "metadata": {},
   "outputs": [],
   "source": [
    "import jax\n",
    "import jax.numpy as jnp\n",
    "from jax.experimental import stax,optimizers "
   ]
  },
  {
   "cell_type": "code",
   "execution_count": 4,
   "metadata": {},
   "outputs": [],
   "source": [
    "init_data = load_binned('binned_3_80.npz')"
   ]
  },
  {
   "cell_type": "code",
   "execution_count": 5,
   "metadata": {},
   "outputs": [
    {
     "name": "stdout",
     "output_type": "stream",
     "text": [
      "Found classifier Random\n",
      "You need to install the zotbin package:\n",
      "  pip install git+https://github.com/dkirkby/zotbin.git\n",
      "Found classifier ZotBin\n",
      "Found classifier RandomForest\n",
      "Found classifier IBandOnly\n"
     ]
    }
   ],
   "source": [
    "from tomo_challenge import load_redshift"
   ]
  },
  {
   "cell_type": "code",
   "execution_count": 6,
   "metadata": {},
   "outputs": [],
   "source": [
    "zdc2 = load_redshift('/media/data2/tomo_challenge_data/ugrizy/training.hdf5')"
   ]
  },
  {
   "cell_type": "code",
   "execution_count": 7,
   "metadata": {},
   "outputs": [],
   "source": [
    "dndz_dc2, _ = np.histogram(zdc2, init_data[0])\n",
    "dndz_dc2 = dndz_dc2 / dndz_dc2.sum()"
   ]
  },
  {
   "cell_type": "code",
   "execution_count": 8,
   "metadata": {},
   "outputs": [],
   "source": [
    "#_, _, _, zhist, _ = load_groups('group_cos_80_150.npz')"
   ]
  },
  {
   "cell_type": "code",
   "execution_count": 16,
   "metadata": {},
   "outputs": [],
   "source": [
    "def optimize_direct(nbin, ntrial, nsteps, eta, transform, metric, method, seed, independent, sample='buzzard', init_data=init_data):\n",
    "    dndz_total = dndz_dc2 #dict(buzzard=dndz_buz, dc2=dndz_dc2)[sample]\n",
    "    return optimize(\n",
    "        nbin, np.diag(dndz_total), init_data, ntrial=ntrial, interval=nsteps // 4,\n",
    "        transform=transform, method=method, metric=metric, seed=seed, independent=independent,\n",
    "        opt_args=dict(optimizer=optimizers.adam(eta), nsteps=nsteps))"
   ]
  },
  {
   "cell_type": "code",
   "execution_count": 10,
   "metadata": {},
   "outputs": [
    {
     "name": "stdout",
     "output_type": "stream",
     "text": [
      "  score=14.241 (max=14.241) after 25 steps.\n",
      "  score=22.133 (max=22.133) after 50 steps.\n",
      "  score=28.362 (max=28.362) after 75 steps.\n",
      "  score=32.718 (max=32.718) after 100 steps.\n",
      "trial 1/3: score=32.718 (max=32.718) after 100 steps.\n",
      "  score=12.627 (max=32.718) after 25 steps.\n",
      "  score=21.888 (max=32.718) after 50 steps.\n",
      "  score=28.466 (max=32.718) after 75 steps.\n",
      "  score=32.661 (max=32.718) after 100 steps.\n",
      "trial 2/3: score=32.661 (max=32.718) after 100 steps.\n",
      "  score=14.345 (max=32.718) after 25 steps.\n",
      "  score=22.922 (max=32.718) after 50 steps.\n",
      "  score=28.372 (max=32.718) after 75 steps.\n",
      "  score=32.067 (max=32.718) after 100 steps.\n",
      "trial 3/3: score=32.067 (max=32.718) after 100 steps.\n"
     ]
    }
   ],
   "source": [
    "scores, weights, dndz_bin, training = optimize_direct(2, 3, 100, 0.02, 'extend', 'FOM_DETF_3x2', 'jax', 123, False)"
   ]
  },
  {
   "cell_type": "code",
   "execution_count": 17,
   "metadata": {},
   "outputs": [
    {
     "name": "stdout",
     "output_type": "stream",
     "text": [
      "  score=14.593 (max=14.593) after 25 steps.\n",
      "  score=24.069 (max=24.069) after 50 steps.\n",
      "  score=32.777 (max=32.777) after 75 steps.\n",
      "  score=39.292 (max=39.292) after 100 steps.\n",
      "trial 1/3: score=39.292 (max=39.292) after 100 steps.\n",
      "  score=14.416 (max=39.292) after 25 steps.\n",
      "  score=23.091 (max=39.292) after 50 steps.\n",
      "  score=29.774 (max=39.292) after 75 steps.\n",
      "  score=35.661 (max=39.292) after 100 steps.\n",
      "trial 2/3: score=35.661 (max=39.292) after 100 steps.\n",
      "  score=14.999 (max=39.292) after 25 steps.\n",
      "  score=24.613 (max=39.292) after 50 steps.\n",
      "  score=32.364 (max=39.292) after 75 steps.\n",
      "  score=38.505 (max=39.292) after 100 steps.\n",
      "trial 3/3: score=38.505 (max=39.292) after 100 steps.\n"
     ]
    }
   ],
   "source": [
    "scores2, weights2, dndz_bin2, training2 = optimize_direct(2, 3, 100, 0.02, 'extend', 'FOM_DETF_3x2', 'jax', 123, True)"
   ]
  },
  {
   "cell_type": "code",
   "execution_count": 18,
   "metadata": {},
   "outputs": [
    {
     "data": {
      "text/plain": [
       "({'FOM_3x2': 523.3963623046875,\n",
       "  'FOM_DETF_3x2': 32.71810531616211,\n",
       "  'SNR_3x2': 854.196533203125},\n",
       " {'FOM_3x2': 537.4295654296875,\n",
       "  'FOM_DETF_3x2': 39.291934967041016,\n",
       "  'SNR_3x2': 853.9764404296875})"
      ]
     },
     "execution_count": 18,
     "metadata": {},
     "output_type": "execute_result"
    }
   ],
   "source": [
    "scores, scores2"
   ]
  },
  {
   "cell_type": "code",
   "execution_count": 19,
   "metadata": {},
   "outputs": [
    {
     "data": {
      "text/plain": [
       "((2, 80), (2, 2, 80))"
      ]
     },
     "execution_count": 19,
     "metadata": {},
     "output_type": "execute_result"
    }
   ],
   "source": [
    "weights.shape, weights2.shape"
   ]
  },
  {
   "cell_type": "code",
   "execution_count": 20,
   "metadata": {},
   "outputs": [
    {
     "data": {
      "text/plain": [
       "((2, 80), (2, 2, 80))"
      ]
     },
     "execution_count": 20,
     "metadata": {},
     "output_type": "execute_result"
    }
   ],
   "source": [
    "dndz_bin.shape, dndz_bin2.shape"
   ]
  },
  {
   "cell_type": "code",
   "execution_count": 41,
   "metadata": {},
   "outputs": [
    {
     "name": "stdout",
     "output_type": "stream",
     "text": [
      "(1, 2, 80)\n"
     ]
    },
    {
     "data": {
      "image/png": "[encoded data removed]",
      "text/plain": [
       "<Figure size 432x288 with 1 Axes>"
      ]
     },
     "metadata": {
      "needs_background": "light"
     },
     "output_type": "display_data"
    }
   ],
   "source": [
    "plot_dndz(dndz_bin, init_data[0])"
   ]
  },
  {
   "cell_type": "code",
   "execution_count": 40,
   "metadata": {},
   "outputs": [
    {
     "data": {
      "image/png": "[encoded data removed]",
      "text/plain": [
       "<Figure size 432x288 with 1 Axes>"
      ]
     },
     "metadata": {
      "needs_background": "light"
     },
     "output_type": "display_data"
    }
   ],
   "source": [
    "plot_dndz(dndz_bin2, init_data[0])"
   ]
  },
  {
   "cell_type": "code",
   "execution_count": null,
   "metadata": {},
   "outputs": [],
   "source": []
  }
 ],
 "metadata": {
  "kernelspec": {
   "display_name": "Python 3",
   "language": "python",
   "name": "python3"
  },
  "language_info": {
   "codemirror_mode": {
    "name": "ipython",
    "version": 3
   },
   "file_extension": ".py",
   "mimetype": "text/x-python",
   "name": "python",
   "nbconvert_exporter": "python",
   "pygments_lexer": "ipython3",
   "version": "3.7.3"
  }
 },
 "nbformat": 4,
 "nbformat_minor": 2
}
